{
 "cells": [
  {
   "cell_type": "markdown",
   "id": "3790b091-fd6b-4969-9e50-b790e8fd3189",
   "metadata": {},
   "source": [
    "# Intuition of Tensor Networks"
   ]
  },
  {
   "cell_type": "markdown",
   "id": "d255cd76-8bd5-434e-9a6d-6e959b2cb929",
   "metadata": {},
   "source": [
    "<img src=\"img/IT_1.png\" width=300>"
   ]
  },
  {
   "cell_type": "markdown",
   "id": "3730aaaf-2b30-4842-8229-16714db74392",
   "metadata": {},
   "source": [
    "# Installing ITensors"
   ]
  },
  {
   "cell_type": "markdown",
   "id": "ad383bf7-6cbe-441a-80a6-0434978b4cd6",
   "metadata": {},
   "source": [
    "using Pkg\n",
    "Pkg.add(\"ITensors\")\n",
    "\n",
    "or \n",
    "\n",
    "]\n",
    "add ITensors "
   ]
  },
  {
   "cell_type": "markdown",
   "id": "eaad2474-0861-4864-b984-528fe793f286",
   "metadata": {},
   "source": [
    "# Using ITensors"
   ]
  },
  {
   "cell_type": "code",
   "execution_count": 1,
   "id": "ac7451aa-1e57-48b4-9b7f-701e0db14283",
   "metadata": {},
   "outputs": [],
   "source": [
    "using ITensors"
   ]
  },
  {
   "cell_type": "markdown",
   "id": "909a141a-e523-46f1-bbcc-92fd066edeb8",
   "metadata": {},
   "source": [
    "# Basic ITensor Usage"
   ]
  },
  {
   "cell_type": "code",
   "execution_count": 2,
   "id": "e04e74cb-26e9-43de-a933-2d32ba79aefc",
   "metadata": {},
   "outputs": [
    {
     "data": {
      "text/plain": [
       "(dim=3|id=921)"
      ]
     },
     "execution_count": 2,
     "metadata": {},
     "output_type": "execute_result"
    }
   ],
   "source": [
    "# Create a tensor Index of dimension 3\n",
    "i = Index(3)"
   ]
  },
  {
   "cell_type": "code",
   "execution_count": 11,
   "id": "f645dc62-8cb3-41e9-a9b1-53c1f67c4da3",
   "metadata": {},
   "outputs": [
    {
     "name": "stdout",
     "output_type": "stream",
     "text": [
      "i = (dim=2|id=684)\n"
     ]
    }
   ],
   "source": [
    "# To get some information of i Index\n",
    "@show i;"
   ]
  },
  {
   "cell_type": "code",
   "execution_count": 12,
   "id": "7e34fd49-4100-4bf2-8be3-d9a4e08bafaf",
   "metadata": {},
   "outputs": [],
   "source": [
    "# Create some Index objects\n",
    "i = Index(2);\n",
    "j = Index(2);\n",
    "k = Index(3);\n",
    "l = Index(3);"
   ]
  },
  {
   "cell_type": "code",
   "execution_count": 13,
   "id": "82836361-6e2d-477e-899e-d7b85bcef090",
   "metadata": {},
   "outputs": [],
   "source": [
    "# Define ITensors\n",
    "A = ITensor(i);\n",
    "B = ITensor(i,j)\n",
    "C = ITensor(l,j,k);"
   ]
  },
  {
   "cell_type": "code",
   "execution_count": 14,
   "id": "aa91e758-675e-47d8-b68a-81b021666bae",
   "metadata": {},
   "outputs": [
    {
     "name": "stdout",
     "output_type": "stream",
     "text": [
      "A = ITensor ord=1\n",
      "Dim 1: (dim=2|id=779)\n",
      "NDTensors.EmptyStorage{NDTensors.EmptyNumber, NDTensors.Dense{NDTensors.EmptyNumber, Vector{NDTensors.EmptyNumber}}}\n",
      " 2-element\n",
      "\n",
      "\n"
     ]
    }
   ],
   "source": [
    "@show A;"
   ]
  },
  {
   "cell_type": "code",
   "execution_count": 7,
   "id": "94db32fe-05df-4c29-ad2c-bdcd8dc9096f",
   "metadata": {},
   "outputs": [
    {
     "name": "stdout",
     "output_type": "stream",
     "text": [
      "B = ITensor ord=2\n",
      "Dim 1: (dim=2|id=684)\n",
      "Dim 2: (dim=2|id=773)\n",
      "NDTensors.EmptyStorage{NDTensors.EmptyNumber, NDTensors.Dense{NDTensors.EmptyNumber, Vector{NDTensors.EmptyNumber}}}\n",
      " 2×2\n",
      "\n",
      "\n"
     ]
    }
   ],
   "source": [
    "@show B;"
   ]
  },
  {
   "cell_type": "code",
   "execution_count": 8,
   "id": "6b6337f3-0864-423e-9af7-8655920f7f78",
   "metadata": {},
   "outputs": [
    {
     "name": "stdout",
     "output_type": "stream",
     "text": [
      "C = ITensor ord=3\n",
      "Dim 1: (dim=3|id=996)\n",
      "Dim 2: (dim=2|id=773)\n",
      "Dim 3: (dim=3|id=818)\n",
      "NDTensors.EmptyStorage{NDTensors.EmptyNumber, NDTensors.Dense{NDTensors.EmptyNumber, Vector{NDTensors.EmptyNumber}}}\n",
      " 3×2×3\n",
      "\n",
      "\n"
     ]
    }
   ],
   "source": [
    "@show C;"
   ]
  },
  {
   "cell_type": "code",
   "execution_count": 15,
   "id": "b06349ba-3cce-4146-a8bd-4a75144363fb",
   "metadata": {},
   "outputs": [
    {
     "name": "stdout",
     "output_type": "stream",
     "text": [
      "  0.000034 seconds (22 allocations: 3.094 KiB)\n"
     ]
    }
   ],
   "source": [
    "# Make contraction in ITensor\n",
    "@time D = A*B*C;"
   ]
  },
  {
   "cell_type": "code",
   "execution_count": 16,
   "id": "5e58b458-2b35-4e03-9ce1-b2c8a371d234",
   "metadata": {},
   "outputs": [
    {
     "name": "stdout",
     "output_type": "stream",
     "text": [
      "D = ITensor ord=2\n",
      "Dim 1: (dim=3|id=133)\n",
      "Dim 2: (dim=3|id=667)\n",
      "NDTensors.EmptyStorage{NDTensors.EmptyNumber, NDTensors.Dense{NDTensors.EmptyNumber, Vector{NDTensors.EmptyNumber}}}\n",
      " 3×3\n",
      "\n",
      "\n"
     ]
    }
   ],
   "source": [
    "@show D;"
   ]
  },
  {
   "cell_type": "markdown",
   "id": "65f137d9-d438-4efc-8134-a6d641235b8c",
   "metadata": {},
   "source": [
    "The <font color=yellow>*</font> operator finds all matching indices between two ITensors and sums over or contracts these indices."
   ]
  },
  {
   "cell_type": "markdown",
   "id": "8f31e10b-24bb-44b7-8c0a-10b66c400421",
   "metadata": {},
   "source": [
    "# Setting ITensor Elements"
   ]
  },
  {
   "cell_type": "code",
   "execution_count": 41,
   "id": "4c9859f2-390d-40b9-aa74-03ee4200889f",
   "metadata": {},
   "outputs": [],
   "source": [
    "A = ITensor(i,j,k);\n",
    "A[i=>1, j=>1,k=>1] = 3.14;\n",
    "A[i=>2, j=>2,k=>3] = 4.13;\n"
   ]
  },
  {
   "cell_type": "code",
   "execution_count": 43,
   "id": "bf2af6a2-d05d-428d-9bbd-573c51adbba9",
   "metadata": {},
   "outputs": [
    {
     "name": "stdout",
     "output_type": "stream",
     "text": [
      "A = ITensor ord=3\n",
      "Dim 1: (dim=2|id=779)\n",
      "Dim 2: (dim=2|id=383)\n",
      "Dim 3: (dim=3|id=667)\n",
      "NDTensors.Dense{Float64, Vector{Float64}}\n",
      " 2×2×3\n",
      "[:, :, 1] =\n",
      " 3.14  0.0\n",
      " 0.0   0.0\n",
      "\n",
      "[:, :, 2] =\n",
      " 0.0  0.0\n",
      " 0.0  0.0\n",
      "\n",
      "[:, :, 3] =\n",
      " 0.0  0.0\n",
      " 0.0  4.13\n"
     ]
    }
   ],
   "source": [
    "@show A;"
   ]
  },
  {
   "cell_type": "code",
   "execution_count": 45,
   "id": "0100709a-cb64-491d-afee-4d13365bd464",
   "metadata": {},
   "outputs": [],
   "source": [
    "# order of Index are not important \n",
    "A2 = ITensor(i,j,k);\n",
    "A2[k=>1,j=>1,i=>1] = 3.14;\n",
    "A2[j=>2,k=>3,i=>2] = 4.13;"
   ]
  },
  {
   "cell_type": "code",
   "execution_count": 46,
   "id": "5b9ac47e-373f-4970-b0b7-f8830dca70d5",
   "metadata": {},
   "outputs": [
    {
     "name": "stdout",
     "output_type": "stream",
     "text": [
      "A2 = ITensor ord=3\n",
      "Dim 1: (dim=2|id=779)\n",
      "Dim 2: (dim=2|id=383)\n",
      "Dim 3: (dim=3|id=667)\n",
      "NDTensors.Dense{Float64, Vector{Float64}}\n",
      " 2×2×3\n",
      "[:, :, 1] =\n",
      " 3.14  0.0\n",
      " 0.0   0.0\n",
      "\n",
      "[:, :, 2] =\n",
      " 0.0  0.0\n",
      " 0.0  0.0\n",
      "\n",
      "[:, :, 3] =\n",
      " 0.0  0.0\n",
      " 0.0  4.13\n"
     ]
    }
   ],
   "source": [
    "@show A2;"
   ]
  },
  {
   "cell_type": "code",
   "execution_count": 48,
   "id": "6f1e7642-26ec-409a-ada9-7e0d4d6c3693",
   "metadata": {},
   "outputs": [
    {
     "data": {
      "text/plain": [
       "true"
      ]
     },
     "execution_count": 48,
     "metadata": {},
     "output_type": "execute_result"
    }
   ],
   "source": [
    "isequal(A,A2)"
   ]
  },
  {
   "cell_type": "code",
   "execution_count": 51,
   "id": "0043ed26-2db7-4eb6-984e-8bd5723c4a9a",
   "metadata": {},
   "outputs": [],
   "source": [
    "# ITensor with normally-distributed random elements \n",
    "# real-valued random\n",
    "T1 = randomITensor(i,j,k);"
   ]
  },
  {
   "cell_type": "code",
   "execution_count": 52,
   "id": "50aef9ec-d8cb-4eef-be5c-fa49abf16fee",
   "metadata": {},
   "outputs": [
    {
     "name": "stdout",
     "output_type": "stream",
     "text": [
      "T1 = ITensor ord=3\n",
      "Dim 1: (dim=2|id=779)\n",
      "Dim 2: (dim=2|id=383)\n",
      "Dim 3: (dim=3|id=667)\n",
      "NDTensors.Dense{Float64, Vector{Float64}}\n",
      " 2×2×3\n",
      "[:, :, 1] =\n",
      " 0.16294887209183995  -1.1469396514273635\n",
      " 0.2920864857492748   -0.8497317287765782\n",
      "\n",
      "[:, :, 2] =\n",
      "  0.5352731896181678  -1.6581169771893511\n",
      " -0.3137050812692916   0.8302873638482309\n",
      "\n",
      "[:, :, 3] =\n",
      " -0.9276655422703521    1.0091134143950131\n",
      " -0.28926010233355937  -0.3598445211302483\n"
     ]
    }
   ],
   "source": [
    "@show T1;"
   ]
  },
  {
   "cell_type": "code",
   "execution_count": 53,
   "id": "798a0c55-394b-43af-bc3a-651c76cac2b4",
   "metadata": {},
   "outputs": [],
   "source": [
    "# To construct a complex-valued random ITensor\n",
    "T2 = randomITensor(ComplexF64,i,j,k);"
   ]
  },
  {
   "cell_type": "code",
   "execution_count": 54,
   "id": "45a467b9-49cb-4834-9f9e-968c00e801eb",
   "metadata": {},
   "outputs": [
    {
     "name": "stdout",
     "output_type": "stream",
     "text": [
      "T2 = ITensor ord=3\n",
      "Dim 1: (dim=2|id=779)\n",
      "Dim 2: (dim=2|id=383)\n",
      "Dim 3: (dim=3|id=667)\n",
      "NDTensors.Dense{ComplexF64, Vector{ComplexF64}}\n",
      " 2×2×3\n",
      "[:, :, 1] =\n",
      " 0.47006215816263147 - 1.1023557910998556im  0.24284754930368588 + 0.17843646334488877im\n",
      "   1.195669364031557 - 0.5423420086868115im  -1.7292193498059578 + 0.8526840072908145im\n",
      "\n",
      "[:, :, 2] =\n",
      " -1.3284858099241719 + 0.29905243616393856im  0.8580773580641732 - 0.27860206973314056im\n",
      " 0.06777474693275745 - 0.8436698110018073im    0.514284818561801 - 0.831923468214578im\n",
      "\n",
      "[:, :, 3] =\n",
      " -1.8901093034797554 - 0.1891615136137398im  0.5590303035552127 + 0.266545420804546im\n",
      " -0.6794419056783069 + 0.1585384059749695im  0.4617016144139451 - 0.06835196152463943im\n"
     ]
    }
   ],
   "source": [
    "@show T2;"
   ]
  },
  {
   "cell_type": "markdown",
   "id": "59177f92-bdb6-4186-859a-7631b078555c",
   "metadata": {},
   "source": [
    "# Matrix Example"
   ]
  },
  {
   "cell_type": "code",
   "execution_count": 55,
   "id": "f3a02e20-36f3-4d60-a9bb-71ecf3a69552",
   "metadata": {},
   "outputs": [],
   "source": [
    "# We consider two matrices \n",
    "A = ITensor(i,j);\n",
    "B = ITensor(k,j);"
   ]
  },
  {
   "cell_type": "code",
   "execution_count": 59,
   "id": "b89726f3-baa8-4f75-bdd1-39211f8cb469",
   "metadata": {},
   "outputs": [
    {
     "name": "stdout",
     "output_type": "stream",
     "text": [
      "size of A: (2, 2)\n",
      "size of B: (3, 2)\n"
     ]
    }
   ],
   "source": [
    "println(\"size of A: \",size(A))\n",
    "println(\"size of B: \",size(B))"
   ]
  },
  {
   "cell_type": "code",
   "execution_count": 64,
   "id": "6c854608-cbc9-4d6c-8df4-1b19176e7c59",
   "metadata": {},
   "outputs": [
    {
     "name": "stdout",
     "output_type": "stream",
     "text": [
      "size of C: (2, 3)\n"
     ]
    }
   ],
   "source": [
    "# We do not need to transpose B tensor \n",
    "# In ITensor we just do as follows \n",
    "C = A*B;\n",
    "println(\"size of C: \", size(C))"
   ]
  },
  {
   "cell_type": "code",
   "execution_count": 65,
   "id": "118053d9-9870-4a7c-9e65-686aaf5dd023",
   "metadata": {},
   "outputs": [
    {
     "name": "stdout",
     "output_type": "stream",
     "text": [
      "C = ITensor ord=2\n",
      "Dim 1: (dim=2|id=779)\n",
      "Dim 2: (dim=3|id=667)\n",
      "NDTensors.EmptyStorage{NDTensors.EmptyNumber, NDTensors.Dense{NDTensors.EmptyNumber, Vector{NDTensors.EmptyNumber}}}\n",
      " 2×3\n",
      "\n",
      "\n"
     ]
    }
   ],
   "source": [
    "@show C;"
   ]
  },
  {
   "cell_type": "markdown",
   "id": "0feefac0-8545-4d77-b9c3-ac7fd5883c05",
   "metadata": {},
   "source": [
    "# Summing ITensors"
   ]
  },
  {
   "cell_type": "code",
   "execution_count": null,
   "id": "10f50666-58a6-4cd8-bcd0-ebdcf7fc27d3",
   "metadata": {},
   "outputs": [],
   "source": [
    "# simple arithmetic operations on itensors "
   ]
  },
  {
   "cell_type": "markdown",
   "id": "4ed4d9d5-f37d-473a-b234-ae029111e48d",
   "metadata": {},
   "source": [
    "ITensors can be added, subtracted as long as they have the same set of indices. \n",
    "\n",
    "\n",
    "Even if the indices are in a different order"
   ]
  },
  {
   "cell_type": "code",
   "execution_count": 67,
   "id": "99239f6f-ad32-42da-8f1b-308ee5193ce7",
   "metadata": {},
   "outputs": [
    {
     "name": "stdout",
     "output_type": "stream",
     "text": [
      "C = ITensor ord=3\n",
      "Dim 1: (dim=2|id=779)\n",
      "Dim 2: (dim=2|id=383)\n",
      "Dim 3: (dim=3|id=667)\n",
      "NDTensors.Dense{Float64, Vector{Float64}}\n",
      " 2×2×3\n",
      "[:, :, 1] =\n",
      " -1.5866525600613084   0.6082362553635388\n",
      "  0.13185211344782238  0.6064836680755893\n",
      "\n",
      "[:, :, 2] =\n",
      " 1.1842747513499337   0.7292028936010156\n",
      " 0.9795991468427029  -1.75784526558868\n",
      "\n",
      "[:, :, 3] =\n",
      " -1.2708440457495074  1.5955347158179716\n",
      " -0.5734866861807324  0.4229684206530136\n"
     ]
    }
   ],
   "source": [
    "A = randomITensor(i,j,k);\n",
    "B = randomITensor(k,i,j);\n",
    "C = A + B;\n",
    "@show C;"
   ]
  },
  {
   "cell_type": "code",
   "execution_count": 69,
   "id": "9326ebbb-562b-4591-80ea-83f2ce64d2fb",
   "metadata": {},
   "outputs": [
    {
     "name": "stdout",
     "output_type": "stream",
     "text": [
      "D = ITensor ord=3\n",
      "Dim 1: (dim=2|id=779)\n",
      "Dim 2: (dim=2|id=383)\n",
      "Dim 3: (dim=3|id=667)\n",
      "NDTensors.Dense{Float64, Vector{Float64}}\n",
      " 2×2×3\n",
      "[:, :, 1] =\n",
      " -3.0095401908376234  2.982673601731095\n",
      "  0.8570905889029358  0.11144748934424298\n",
      "\n",
      "[:, :, 2] =\n",
      "  6.340297378787372   -2.381130770914041\n",
      " -2.8766138325773767  -3.6086941604730383\n",
      "\n",
      "[:, :, 3] =\n",
      " -0.0719740741790571   1.8388664818115208\n",
      " -7.312902677067273   -0.7770444206525846\n"
     ]
    }
   ],
   "source": [
    "# Subtraction of ITensors \n",
    "D = 4*A - B /2 ;\n",
    "@show D;"
   ]
  },
  {
   "cell_type": "code",
   "execution_count": 70,
   "id": "c100eef4-b630-485b-a299-8c8c48c2654d",
   "metadata": {},
   "outputs": [
    {
     "name": "stdout",
     "output_type": "stream",
     "text": [
      "E = ITensor ord=3\n",
      "Dim 1: (dim=2|id=779)\n",
      "Dim 2: (dim=2|id=383)\n",
      "Dim 3: (dim=3|id=667)\n",
      "NDTensors.Dense{ComplexF64, Vector{ComplexF64}}\n",
      " 2×2×3\n",
      "[:, :, 1] =\n",
      " -0.8450814379707283 - 1.48314224418116im      0.7303981620917476 - 0.24432381345641752im\n",
      " 0.20511481013929933 - 0.14652539338295392im  0.09215318297378614 + 1.0286609702036063im\n",
      "\n",
      "[:, :, 2] =\n",
      " 1.5405410565471864 - 0.7125326103945054im  -0.4481176275807851 + 2.3546410423636015im\n",
      " -0.530403168701339 + 3.0200046310880837im  -0.9972481762816396 - 1.5211941786140806im\n",
      "\n",
      "[:, :, 3] =\n",
      " -0.15719913267862462 - 2.2272898261417655im    0.5859186310490014 + 2.0192321695379403im\n",
      "  -1.6888102267016976 + 2.2306470810419303im  -0.12568004673912841 + 1.097296934784284im\n"
     ]
    }
   ],
   "source": [
    "# multiplication of ITensors\n",
    "E = A + 2.0im*B;\n",
    "@show E;"
   ]
  },
  {
   "cell_type": "markdown",
   "id": "1bcd4bcf-7e86-40e6-bf0b-3e8bd611bbb8",
   "metadata": {},
   "source": [
    "# Priming Indices"
   ]
  },
  {
   "cell_type": "code",
   "execution_count": null,
   "id": "be54fcb2-685a-4a70-ac74-8fd2312a585f",
   "metadata": {},
   "outputs": [],
   "source": [
    "# We use priming feature of ITensors when some of shared indices are not desired to be contracted "
   ]
  },
  {
   "cell_type": "code",
   "execution_count": 84,
   "id": "b7e0c9fd-669d-48bc-ac16-615bb958f873",
   "metadata": {},
   "outputs": [],
   "source": [
    "# As an example, imagine we want just contract over the index j\n",
    "A = ITensor(i,j);\n",
    "B = ITensor(i,j);\n",
    "# make prime \n",
    "Ap = prime(T1,i);"
   ]
  },
  {
   "cell_type": "code",
   "execution_count": 85,
   "id": "aaae864c-3fdd-4da9-9e60-e0c193dbf75c",
   "metadata": {},
   "outputs": [],
   "source": [
    "# T1p has the same elemets as T1, but (i′, j)\n",
    "C = Ap * B;"
   ]
  },
  {
   "cell_type": "code",
   "execution_count": 86,
   "id": "195d9edd-2203-425b-bf45-06910ab208af",
   "metadata": {},
   "outputs": [
    {
     "name": "stdout",
     "output_type": "stream",
     "text": [
      "isequal(hasind(C, i), true) = true\n",
      "isequal(hasind(C, i'), true) = true\n",
      "isequal(hasind(C, j), true) = false\n"
     ]
    }
   ],
   "source": [
    "# to check does the result ITensor has both i and i′ we do \n",
    "@show isequal(hasind(C,i),true);\n",
    "@show isequal(hasind(C,i'),true);\n",
    "@show isequal(hasind(C,j),true);"
   ]
  },
  {
   "cell_type": "markdown",
   "id": "8c9a256e-454b-4e8a-b202-3d98868a8b7f",
   "metadata": {},
   "source": [
    "<img src=\"img/IT_2.png\" width=400>"
   ]
  },
  {
   "cell_type": "markdown",
   "id": "f38e644e-48e4-4b68-b362-702aa8a351bb",
   "metadata": {},
   "source": [
    "# Index Objects"
   ]
  },
  {
   "cell_type": "code",
   "execution_count": 89,
   "id": "97a16c81-2656-4be1-8c24-7ae65dc3311f",
   "metadata": {},
   "outputs": [],
   "source": [
    "# That means comparison operations require two Index objects to have the same id"
   ]
  },
  {
   "cell_type": "code",
   "execution_count": 87,
   "id": "c1267232-77b9-4206-a858-293f02035cbf",
   "metadata": {},
   "outputs": [
    {
     "name": "stdout",
     "output_type": "stream",
     "text": [
      "i = (dim=4|id=252)\n"
     ]
    }
   ],
   "source": [
    "i = Index(4);\n",
    "@show i;"
   ]
  },
  {
   "cell_type": "code",
   "execution_count": 88,
   "id": "19a2f8e0-5785-4a21-ab23-79b9789d07f1",
   "metadata": {},
   "outputs": [
    {
     "name": "stdout",
     "output_type": "stream",
     "text": [
      "isequal(i, j) = false\n"
     ]
    }
   ],
   "source": [
    "j = Index(4);\n",
    "@show isequal(i,j);"
   ]
  },
  {
   "cell_type": "code",
   "execution_count": 90,
   "id": "f7e3143f-7d8e-428d-af29-8981cbb289a2",
   "metadata": {},
   "outputs": [
    {
     "name": "stdout",
     "output_type": "stream",
     "text": [
      "k = (dim=3|id=983|\"Site,s\")\n"
     ]
    }
   ],
   "source": [
    "# We can also add a tag to indices\n",
    "k = Index(3,\"s, Site\");\n",
    "@show k;"
   ]
  },
  {
   "cell_type": "code",
   "execution_count": 92,
   "id": "beb3c003-19f3-43d2-9a8d-02f9f11b7beb",
   "metadata": {},
   "outputs": [
    {
     "name": "stdout",
     "output_type": "stream",
     "text": [
      "l = (dim=4|id=943|\"a,b,c,d\")\n"
     ]
    }
   ],
   "source": [
    "# The maximum tag for each index is 4\n",
    "l = Index(4,\"a,b,c,d,e,f,\");\n",
    "@show l;"
   ]
  },
  {
   "cell_type": "code",
   "execution_count": 94,
   "id": "5c530c83-0b74-4a90-8f56-534637c1360b",
   "metadata": {},
   "outputs": [
    {
     "name": "stdout",
     "output_type": "stream",
     "text": [
      "m = (dim=3|id=256|\"abcdefghijklmnop\")\n"
     ]
    }
   ],
   "source": [
    "# The maximum character for each tag is 16\n",
    "m = Index(3,\"abcdefghijklmnopqrstuvwxyz\");\n",
    "@show m;"
   ]
  },
  {
   "cell_type": "markdown",
   "id": "5756134c-36f0-4d83-a1a3-146c0624038e",
   "metadata": {},
   "source": [
    "##### Why do we use tags? "
   ]
  },
  {
   "cell_type": "markdown",
   "id": "111cd5d7-b287-4802-b03d-feff4aa5d256",
   "metadata": {},
   "source": [
    "1. Identify Index objects when printing them\n",
    "2. Collecting subsets of indices sharing a common tags\n",
    "3. Preventing certain Index pairs from contracting with each other"
   ]
  },
  {
   "cell_type": "code",
   "execution_count": null,
   "id": "33046231-2a21-4285-83ed-cc662ef71a2e",
   "metadata": {},
   "outputs": [],
   "source": []
  },
  {
   "cell_type": "code",
   "execution_count": 98,
   "id": "aa707131-88bb-4e27-a8ea-6b6858fe1610",
   "metadata": {},
   "outputs": [
    {
     "name": "stdout",
     "output_type": "stream",
     "text": [
      "plev(i) = 0\n"
     ]
    }
   ],
   "source": [
    "# Every Index carries an integer prime level which defaults to zero\n",
    "i = Index(2,\"i\");\n",
    "@show plev(i);"
   ]
  },
  {
   "cell_type": "code",
   "execution_count": 103,
   "id": "f6e7ea4e-e5ed-40be-beed-0cb05dc392b7",
   "metadata": {},
   "outputs": [
    {
     "name": "stdout",
     "output_type": "stream",
     "text": [
      "plev(ip) = 1\n"
     ]
    }
   ],
   "source": [
    "# ip = prime(i);\n",
    "# we can also do as \n",
    "ip = i'\n",
    "@show plev(ip);"
   ]
  },
  {
   "cell_type": "code",
   "execution_count": 104,
   "id": "c9e2efdc-917b-47c0-ba50-4191b94d08d5",
   "metadata": {},
   "outputs": [
    {
     "data": {
      "text/plain": [
       "false"
      ]
     },
     "execution_count": 104,
     "metadata": {},
     "output_type": "execute_result"
    }
   ],
   "source": [
    "i == i'"
   ]
  },
  {
   "cell_type": "code",
   "execution_count": 105,
   "id": "c47b4926-61b7-4d3d-9e57-77ec3a125e1e",
   "metadata": {},
   "outputs": [
    {
     "data": {
      "text/plain": [
       "false"
      ]
     },
     "execution_count": 105,
     "metadata": {},
     "output_type": "execute_result"
    }
   ],
   "source": [
    "i == i''"
   ]
  },
  {
   "cell_type": "code",
   "execution_count": 106,
   "id": "8466667b-9e0e-4358-b835-a521572e797b",
   "metadata": {},
   "outputs": [
    {
     "data": {
      "text/plain": [
       "(dim=2|id=980|\"i\")"
      ]
     },
     "execution_count": 106,
     "metadata": {},
     "output_type": "execute_result"
    }
   ],
   "source": [
    "noprime(i)"
   ]
  },
  {
   "cell_type": "markdown",
   "id": "fc8c5341-415c-498c-ae98-54309e38930f",
   "metadata": {},
   "source": [
    "# The ITensor Product Operator (<font color=yellow>*</font>)"
   ]
  },
  {
   "cell_type": "markdown",
   "id": "bdb0fb22-d4ed-46b6-a96d-5fe9d69bf1da",
   "metadata": {},
   "source": [
    "- The <font color=yellow>*</font> product of ITensors with no indices in common computes an <font color=magenta>outer product</font>\n",
    "- The <font color=yellow>*</font> product of ITensors with all the same indices computes an <font color=magenta>inner product</font>\n",
    "- The <font color=yellow>*</font> operator For a pair of ITensors,having just some indices in common,  computes a <font color=magenta>tensor contraction</font>\n"
   ]
  },
  {
   "cell_type": "code",
   "execution_count": 110,
   "id": "d1a30cbf-4dad-4dfc-88c4-00bedf66eac9",
   "metadata": {},
   "outputs": [
    {
     "name": "stdout",
     "output_type": "stream",
     "text": [
      "X = ITensor ord=2\n",
      "Dim 1: (dim=2|id=980|\"i\")\n",
      "Dim 2: (dim=4|id=977)\n",
      "NDTensors.EmptyStorage{NDTensors.EmptyNumber, NDTensors.Dense{NDTensors.EmptyNumber, Vector{NDTensors.EmptyNumber}}}\n",
      " 2×4\n",
      "\n",
      "\n"
     ]
    }
   ],
   "source": [
    "V = ITensor(i)\n",
    "W = ITensor(j)\n",
    "X = V * W;\n",
    "@show X;"
   ]
  },
  {
   "cell_type": "markdown",
   "id": "2c3fe353-8498-4656-bc9f-0a427d670848",
   "metadata": {},
   "source": [
    "<img src=\"img/IT_3.png\" width=400>"
   ]
  },
  {
   "cell_type": "code",
   "execution_count": 111,
   "id": "9ae0bd81-59e5-49e3-a6e4-38ab3d543082",
   "metadata": {},
   "outputs": [
    {
     "name": "stdout",
     "output_type": "stream",
     "text": [
      "C = ITensor ord=0\n",
      "NDTensors.EmptyStorage{NDTensors.EmptyNumber, NDTensors.Dense{NDTensors.EmptyNumber, Vector{NDTensors.EmptyNumber}}}\n",
      " 0-dimensional\n",
      "\n",
      "\n"
     ]
    }
   ],
   "source": [
    "A = ITensor(i,j,k)\n",
    "B = ITensor(k,i,j)\n",
    "C = A * B;\n",
    "@show C;"
   ]
  },
  {
   "cell_type": "markdown",
   "id": "c67a56f8-aa59-436f-a9cf-d11299aafd06",
   "metadata": {},
   "source": [
    "<img src=\"img/IT_4.png\" width=400>"
   ]
  },
  {
   "cell_type": "code",
   "execution_count": 114,
   "id": "10e7c370-f6b7-4150-9f9a-3cb6b5ea4f7e",
   "metadata": {},
   "outputs": [
    {
     "name": "stdout",
     "output_type": "stream",
     "text": [
      "x = NDTensors.EmptyNumber()\n"
     ]
    }
   ],
   "source": [
    "# To convert this scalar tensor to a real/complex number we use \n",
    "x = scalar(C);\n",
    "@show x;"
   ]
  },
  {
   "cell_type": "code",
   "execution_count": 118,
   "id": "2d62c010-3db6-4d14-acb3-cddc4e37d254",
   "metadata": {},
   "outputs": [
    {
     "name": "stdout",
     "output_type": "stream",
     "text": [
      "R = ITensor ord=3\n",
      "Dim 1: (dim=2|id=980|\"i\")\n",
      "Dim 2: (dim=4|id=977)\n",
      "Dim 3: (dim=10|id=732)\n",
      "NDTensors.EmptyStorage{NDTensors.EmptyNumber, NDTensors.Dense{NDTensors.EmptyNumber, Vector{NDTensors.EmptyNumber}}}\n",
      " 2×4×10\n",
      "\n",
      "\n"
     ]
    }
   ],
   "source": [
    "n = Index(10);\n",
    "\n",
    "T = ITensor(i,j,k);\n",
    "M = ITensor(k,n);\n",
    "R = T * M;\n",
    "@show R;"
   ]
  },
  {
   "cell_type": "markdown",
   "id": "86399b0d-786e-49cf-87b2-199d857da1f1",
   "metadata": {},
   "source": [
    "<img src=\"img/IT_5.png\" width=400>"
   ]
  },
  {
   "cell_type": "code",
   "execution_count": null,
   "id": "d63deb21-22bf-46fc-abf2-5616d6ab38a8",
   "metadata": {},
   "outputs": [],
   "source": []
  },
  {
   "cell_type": "markdown",
   "id": "136516bd-4b2c-4724-b803-9a9b95144fbc",
   "metadata": {},
   "source": [
    "# Tensor Decompositions"
   ]
  },
  {
   "cell_type": "markdown",
   "id": "a2896522-f300-4a8b-b2b0-032521f60420",
   "metadata": {},
   "source": [
    "### QR Decomposition"
   ]
  },
  {
   "cell_type": "code",
   "execution_count": 180,
   "id": "f3786b81-ce4e-45ed-b61c-7833c5a69b53",
   "metadata": {},
   "outputs": [],
   "source": [
    "i = Index(2,\"i\");\n",
    "j = Index(3,\"j\");\n",
    "k = Index(4,\"k\");\n",
    "T = randomITensor(i,j,k);\n",
    "Q,R = qr(T,(i,k));"
   ]
  },
  {
   "cell_type": "code",
   "execution_count": 181,
   "id": "849b38a9-992f-4b72-91a6-a4d3589be2a1",
   "metadata": {},
   "outputs": [
    {
     "name": "stdout",
     "output_type": "stream",
     "text": [
      "size(T) = (2, 3, 4)\n",
      "size(Q) = (2, 4, 3)\n",
      "size(R) = (3, 3)\n",
      "isequal(Q * R, T) = false\n",
      "isapprox(Q * R, T) = true\n"
     ]
    }
   ],
   "source": [
    "@show size(T);\n",
    "@show size(Q);\n",
    "@show size(R);\n",
    "@show isequal(Q*R,T);\n",
    "@show isapprox(Q*R,T);"
   ]
  },
  {
   "cell_type": "markdown",
   "id": "74788786-4ee2-4af3-af24-1e4f02205788",
   "metadata": {},
   "source": [
    "<img src=\"img/IT_6.png\" width=400>"
   ]
  },
  {
   "cell_type": "code",
   "execution_count": 182,
   "id": "64f60fed-ffca-42cf-b5f9-0e29feb38a8b",
   "metadata": {},
   "outputs": [
    {
     "name": "stdout",
     "output_type": "stream",
     "text": [
      "commonind(Q, R) = (dim=3|id=517|\"Link,qr\")\n"
     ]
    }
   ],
   "source": [
    "@show commonind(Q,R);"
   ]
  },
  {
   "cell_type": "markdown",
   "id": "1cfa628f-2d66-4c3f-977f-9cd0e2dff879",
   "metadata": {},
   "source": [
    "### SVD Decomposition"
   ]
  },
  {
   "cell_type": "code",
   "execution_count": 188,
   "id": "51df6da3-4c9c-4717-96cb-30e9b9b35781",
   "metadata": {},
   "outputs": [],
   "source": [
    "i = Index(2,\"i\");\n",
    "j = Index(3,\"j\");\n",
    "k = Index(4,\"k\");\n",
    "m = Index(5,\"m\");\n",
    "W = randomITensor(i,j,m,k);\n",
    "W;"
   ]
  },
  {
   "cell_type": "code",
   "execution_count": null,
   "id": "53d43494-f676-4f8f-857c-7c7a82e80ed0",
   "metadata": {},
   "outputs": [],
   "source": [
    "U,S,V = svd(W,(j,i));"
   ]
  },
  {
   "cell_type": "markdown",
   "id": "42907c8a-766f-482f-8f80-3604981cc02a",
   "metadata": {},
   "source": [
    "<img src=\"img/IT_7.png\" width=400>"
   ]
  },
  {
   "cell_type": "code",
   "execution_count": null,
   "id": "42fb9321-c922-4095-962d-88b4e99444ca",
   "metadata": {},
   "outputs": [],
   "source": [
    "@show size(U);\n",
    "@show size(S);\n",
    "@show size(V);\n",
    "@show isequal(U*S*V,W);\n",
    "@show isapprox(U*S*V,W);"
   ]
  },
  {
   "cell_type": "code",
   "execution_count": 192,
   "id": "72290430-1365-42ad-9e40-555f1851d668",
   "metadata": {},
   "outputs": [],
   "source": [
    "U,S,V = svd(W,(j,i); cutoff=1e-8,maxdim=3);"
   ]
  },
  {
   "cell_type": "code",
   "execution_count": null,
   "id": "8885fa96-19d5-4a63-9592-f4d4e556f663",
   "metadata": {},
   "outputs": [],
   "source": []
  }
 ],
 "metadata": {
  "kernelspec": {
   "display_name": "Julia (4 threads) 1.10.0",
   "language": "julia",
   "name": "julia-_4-threads_-1.10"
  },
  "language_info": {
   "file_extension": ".jl",
   "mimetype": "application/julia",
   "name": "julia",
   "version": "1.10.0"
  },
  "widgets": {
   "application/vnd.jupyter.widget-state+json": {
    "state": {},
    "version_major": 2,
    "version_minor": 0
   }
  }
 },
 "nbformat": 4,
 "nbformat_minor": 5
}
