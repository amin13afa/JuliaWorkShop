{
 "cells": [
  {
   "cell_type": "markdown",
   "id": "aeda4308-3ca4-4966-9a6d-ef53baf60676",
   "metadata": {},
   "source": [
    "# High Level Features"
   ]
  },
  {
   "cell_type": "markdown",
   "id": "84dc81e4-9e2f-45cc-8b6c-afd9056a467c",
   "metadata": {},
   "source": [
    "Two most usefull objects \n",
    "- MPS\n",
    "- MPO "
   ]
  },
  {
   "cell_type": "markdown",
   "id": "5434f1aa-c2b3-46ce-96c9-e21f71c0cb4e",
   "metadata": {},
   "source": [
    "Algorithms included with the core ITensor library \n",
    "\n",
    "- Summation of MPS and MPO\n",
    "- Truncation of MPS and of MPO\n",
    "- Optimization of MPS through the DMRG algorithm\n",
    "- Multiplication of an MPS by an MPO"
   ]
  },
  {
   "cell_type": "markdown",
   "id": "1aa368ef-2476-4cd7-9ccb-cb6cbfb62361",
   "metadata": {},
   "source": [
    "The DMRG code offers different modes\n",
    "- Finding the ground state\n",
    "- Finding excited states"
   ]
  },
  {
   "cell_type": "markdown",
   "id": "76f7ffc1-0083-409f-8369-1d7fef71e4c5",
   "metadata": {},
   "source": [
    "`OpSum/AutoMPO` system \n",
    "\n",
    "`OpSum` lets users input sums of products of local linear operators in a domain-specific\n",
    "language\n",
    "\n",
    "`AutoMPO` is the backend system for __“compiling”__ these sums to MPO tensor networks"
   ]
  },
  {
   "cell_type": "markdown",
   "id": "8394cb5a-e81d-4ed8-8d6f-ddf0b5a9c32a",
   "metadata": {},
   "source": [
    "As a simple example we have `Heisenberg Hamiltonian`"
   ]
  },
  {
   "cell_type": "markdown",
   "id": "970a1314-79f0-4eff-af83-097a16151c43",
   "metadata": {},
   "source": [
    "$$\n",
    "H = \\sum_{j=1}^{N-1} \\vec S_j . \\vec S_{j+1} = \\sum_{j=1}^{N-1} S_j^zS_{j+1}^z+\\frac{1}{2}S_j^+S_{j+1}^-+\\frac{1}{2}S_j^-S_{j+1}^+\n",
    "$$"
   ]
  },
  {
   "cell_type": "code",
   "execution_count": 2,
   "id": "ef5f4dc2-62ba-48f4-83c8-e65782bee732",
   "metadata": {},
   "outputs": [],
   "source": [
    "using ITensors"
   ]
  },
  {
   "cell_type": "code",
   "execution_count": 4,
   "id": "85317628-c45c-4994-b3ee-c63df5778ee7",
   "metadata": {},
   "outputs": [
    {
     "data": {
      "text/plain": [
       "Heisenberg (generic function with 1 method)"
      ]
     },
     "execution_count": 4,
     "metadata": {},
     "output_type": "execute_result"
    }
   ],
   "source": [
    "function Heisenberg(N)\n",
    "    # make N sites of type S=1/2\n",
    "    sites = siteinds(\"S=1/2\",N)\n",
    "    # Input operators\n",
    "    op = OpSum()\n",
    "    for j in 1:N-1\n",
    "        op += 1,\"Sz\",j,\"Sz\",j+1\n",
    "        op += 1/2,\"S+\",j,\"S-\",j+1\n",
    "        op += 1/2,\"S-\",j,\"S+\",j+1\n",
    "    end\n",
    "    # Convert these operators to MPO\n",
    "    H = MPO(op,sites)\n",
    "    return H\n",
    "end"
   ]
  },
  {
   "cell_type": "code",
   "execution_count": 5,
   "id": "8ddd173b-4497-4ef1-a364-170d2ef9229c",
   "metadata": {},
   "outputs": [
    {
     "data": {
      "text/plain": [
       "MPO\n",
       "[1] ((dim=5|id=949|\"Link,l=1\"), (dim=2|id=901|\"S=1/2,Site,n=1\")', (dim=2|id=901|\"S=1/2,Site,n=1\"))\n",
       "[2] ((dim=5|id=949|\"Link,l=1\"), (dim=5|id=931|\"Link,l=2\"), (dim=2|id=936|\"S=1/2,Site,n=2\")', (dim=2|id=936|\"S=1/2,Site,n=2\"))\n",
       "[3] ((dim=5|id=931|\"Link,l=2\"), (dim=2|id=387|\"S=1/2,Site,n=3\")', (dim=2|id=387|\"S=1/2,Site,n=3\"))\n"
      ]
     },
     "execution_count": 5,
     "metadata": {},
     "output_type": "execute_result"
    }
   ],
   "source": [
    "Heisenberg(3)"
   ]
  },
  {
   "cell_type": "markdown",
   "id": "14c5184e-b7f8-446a-a922-37e2eb4b95dc",
   "metadata": {},
   "source": [
    "# DMRG Algorithm"
   ]
  },
  {
   "cell_type": "markdown",
   "id": "fe7fc271-a119-442e-b8c8-0197b1721541",
   "metadata": {},
   "source": [
    "Density Matrix Renormalization Group the most used algorithm in ITensor"
   ]
  },
  {
   "cell_type": "markdown",
   "id": "63b4354f-1b8b-4698-9848-d4a6c48ceb47",
   "metadata": {},
   "source": [
    "The DMRG algorithm computes low-energy states of quantum systems\n",
    "\n",
    "In mathematical terms, dominant eigenvectors of very large Hermitian linear operators"
   ]
  },
  {
   "cell_type": "markdown",
   "id": "28cf7373-3695-41b8-b1ef-dc9bf729a64c",
   "metadata": {},
   "source": [
    "The ingerediants of DMRG is a Hamiltonina and a guess MPS\n",
    "\n",
    "$$\n",
    "M[j]^z\n",
    "$$"
   ]
  },
  {
   "cell_type": "code",
   "execution_count": null,
   "id": "f7eacad7-72c5-42cd-9656-539af7bb37ec",
   "metadata": {},
   "outputs": [],
   "source": []
  },
  {
   "cell_type": "code",
   "execution_count": null,
   "id": "5940a725-dd50-43fc-9e9c-956ea81530e9",
   "metadata": {},
   "outputs": [],
   "source": []
  },
  {
   "cell_type": "code",
   "execution_count": null,
   "id": "48e87b44-0fbd-49a5-adc8-18935b0d5f25",
   "metadata": {},
   "outputs": [],
   "source": []
  },
  {
   "cell_type": "code",
   "execution_count": null,
   "id": "fb664424-0e05-4e97-986f-c077a46dc467",
   "metadata": {},
   "outputs": [],
   "source": []
  },
  {
   "cell_type": "code",
   "execution_count": null,
   "id": "3ea006d9-bb9d-4467-8eed-be941069a643",
   "metadata": {},
   "outputs": [],
   "source": []
  },
  {
   "cell_type": "code",
   "execution_count": null,
   "id": "72dc288c-6f97-4deb-bde0-e2bc48962238",
   "metadata": {},
   "outputs": [],
   "source": []
  },
  {
   "cell_type": "code",
   "execution_count": null,
   "id": "765eafb9-05c1-44c1-8afd-7da4e71b2f51",
   "metadata": {},
   "outputs": [],
   "source": []
  },
  {
   "cell_type": "code",
   "execution_count": null,
   "id": "2e24efbd-6e2a-4aba-a5fb-24e6078f3c57",
   "metadata": {},
   "outputs": [],
   "source": []
  }
 ],
 "metadata": {
  "kernelspec": {
   "display_name": "Julia (4 threads) 1.10.0",
   "language": "julia",
   "name": "julia-_4-threads_-1.10"
  },
  "language_info": {
   "file_extension": ".jl",
   "mimetype": "application/julia",
   "name": "julia",
   "version": "1.10.0"
  },
  "widgets": {
   "application/vnd.jupyter.widget-state+json": {
    "state": {},
    "version_major": 2,
    "version_minor": 0
   }
  }
 },
 "nbformat": 4,
 "nbformat_minor": 5
}
