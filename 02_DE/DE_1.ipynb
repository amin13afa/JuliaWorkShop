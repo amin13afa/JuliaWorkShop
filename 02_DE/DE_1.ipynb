{
 "cells": [
  {
   "cell_type": "markdown",
   "id": "5a47fd2d-0a98-47a5-aa8b-b93ce3847e0e",
   "metadata": {},
   "source": [
    "# Example 1"
   ]
  },
  {
   "cell_type": "markdown",
   "id": "28de6566-91cb-491b-83c8-db9e4631ffc3",
   "metadata": {},
   "source": [
    "### <font color=yellow>The first and easiest model </font>"
   ]
  },
  {
   "cell_type": "markdown",
   "id": "1ac253cf-fe65-4470-88dd-f6417a79f749",
   "metadata": {},
   "source": [
    "$$\n",
    "u^\\prime  = pu\n",
    "$$\n",
    "\n",
    "Tolve such system of DE we write as follows:\n",
    "\n",
    "$$\n",
    "\\frac{du}{dt} = f(u,p,t)\n",
    "$$"
   ]
  },
  {
   "cell_type": "code",
   "execution_count": null,
   "id": "90117e9b-819a-4af2-8b92-4eaa1cf07d3a",
   "metadata": {},
   "outputs": [],
   "source": [
    "# Import library\n",
    "using DifferentialEquations \n",
    "using Plots\n",
    "using Printf"
   ]
  },
  {
   "cell_type": "code",
   "execution_count": null,
   "id": "a70b9e18-c5e7-4609-a467-ecc1854753cb",
   "metadata": {},
   "outputs": [],
   "source": [
    "# Define problem\n",
    "f(u,p,t) = p*u ;"
   ]
  },
  {
   "cell_type": "code",
   "execution_count": null,
   "id": "7a38d5c5-5e35-40b4-a00d-d402284fb612",
   "metadata": {},
   "outputs": [],
   "source": [
    "# Define problem variables \n",
    "u₀ = 1.0;\n",
    "p = 0.98;\n",
    "tspan = (0.0,1.0);"
   ]
  },
  {
   "cell_type": "code",
   "execution_count": null,
   "id": "4c833cbc-05f0-47bc-80a7-f620e07d10e8",
   "metadata": {},
   "outputs": [],
   "source": [
    "# Define ODE problem such \n",
    "# This method get some input as follows : \n",
    "# f: function, model which we would solve\n",
    "# \n",
    "\n",
    "prob = ODEProblem(f,u₀, tspan, p);"
   ]
  },
  {
   "cell_type": "code",
   "execution_count": null,
   "id": "8c870b9f-9268-4e11-97d4-3865bb4702bd",
   "metadata": {},
   "outputs": [],
   "source": [
    "# Solve the defined problem using DE \n",
    "sol = solve(prob);"
   ]
  },
  {
   "cell_type": "code",
   "execution_count": null,
   "id": "24f6273d-ae22-4f9c-9653-700429105249",
   "metadata": {},
   "outputs": [],
   "source": [
    "plot(sol,label=\"ODE solver\",xaxis=\"Time(t)\",yaxis=\"u(t)(in μm)\",lw=3,ls=:dash,color=:red)\n",
    "plot!(sol.t,t->u₀*exp(p*t),label=\"Analytical solution\",lw=2,ls=:dashdot,color=:blue)\n",
    "title!(\"ODE solver vs Analytical solution\")"
   ]
  },
  {
   "cell_type": "code",
   "execution_count": null,
   "id": "409e67b0-b62e-4d7e-aadb-c58b499673fa",
   "metadata": {},
   "outputs": [],
   "source": [
    "#[@printf(\"t: %0.3f andd u: %0.3f \\n\",t,u) for (t,u) in tuples(sol)];"
   ]
  },
  {
   "cell_type": "code",
   "execution_count": null,
   "id": "b89c84af-cd40-45a5-bfe1-3f5098a8e88a",
   "metadata": {},
   "outputs": [],
   "source": [
    "sol(4.5);"
   ]
  },
  {
   "cell_type": "markdown",
   "id": "85738bde-b377-4944-bdf9-7ba8b53c2805",
   "metadata": {},
   "source": [
    "# Tolerance"
   ]
  },
  {
   "cell_type": "code",
   "execution_count": null,
   "id": "30d03d1e-0859-4deb-a7e9-9c674912de6b",
   "metadata": {},
   "outputs": [],
   "source": [
    "# reltol\n",
    "sol = solve(prob, reltol = 1e-6);"
   ]
  },
  {
   "cell_type": "code",
   "execution_count": null,
   "id": "89aa6656-bdc0-4adc-8b1b-5d23b0e2c32d",
   "metadata": {},
   "outputs": [],
   "source": [
    "# abstol\n",
    "sol = solve(prob, abstol = 1e-6);"
   ]
  },
  {
   "cell_type": "code",
   "execution_count": null,
   "id": "e816ad81-77b4-485b-8484-a1547e0c6326",
   "metadata": {},
   "outputs": [],
   "source": [
    "# abstol, reltol\n",
    "sol = solve(prob, reltol=1e-8, abstol=1e-8);"
   ]
  },
  {
   "cell_type": "markdown",
   "id": "695ef236-bf5e-4a44-b37d-d42883941505",
   "metadata": {},
   "source": [
    "# Save"
   ]
  },
  {
   "cell_type": "code",
   "execution_count": null,
   "id": "669b8447-ab77-4e49-a358-d557b5c84e9a",
   "metadata": {},
   "outputs": [],
   "source": [
    "# we don't want to save output anywhere, most of the time\n",
    "# we want to specify them in some desired points \n",
    "# maybe on a gris with lattice spacing about a=0.1 !\n",
    "\n",
    "sol = solve(prob, saveat=0.1,dense=false);"
   ]
  },
  {
   "cell_type": "code",
   "execution_count": null,
   "id": "571ec789-1e54-434b-b9cd-f736c6f0f708",
   "metadata": {},
   "outputs": [],
   "source": [
    "sol(4.03)"
   ]
  },
  {
   "cell_type": "code",
   "execution_count": null,
   "id": "713bb49c-a9d8-453e-8ba0-6870fb5a9f76",
   "metadata": {},
   "outputs": [],
   "source": [
    "# save at start and end point\n",
    "sol = solve(prob, save_start=false, save_end=false);"
   ]
  },
  {
   "cell_type": "code",
   "execution_count": null,
   "id": "33caa356-cf9a-4523-958c-8ac37d701bb6",
   "metadata": {},
   "outputs": [],
   "source": [
    "# save at desired points\n",
    "sol = solve(prob,saveat=[0.2,0.6,0.9] ,save_start=false, save_end=false);"
   ]
  },
  {
   "cell_type": "markdown",
   "id": "524d315e-5978-4dfc-872a-8f8d41cd6e2f",
   "metadata": {},
   "source": [
    "## No dense solution"
   ]
  },
  {
   "cell_type": "code",
   "execution_count": null,
   "id": "2999289f-d909-4128-96b7-1f2ec50a2492",
   "metadata": {},
   "outputs": [],
   "source": [
    "# If we need to reduce the amount of saving\n",
    "sol = solve(prob,dense=false);"
   ]
  },
  {
   "cell_type": "code",
   "execution_count": null,
   "id": "cc3f938d-1c25-4e78-b00f-846a66956cfe",
   "metadata": {},
   "outputs": [],
   "source": [
    " # to turn off all intermediate saving \n",
    "sol = solve(prob, save_everystep=false);"
   ]
  },
  {
   "cell_type": "code",
   "execution_count": null,
   "id": "b22a8a68-2c93-4996-ab9e-527c046d894c",
   "metadata": {},
   "outputs": [],
   "source": []
  }
 ],
 "metadata": {
  "kernelspec": {
   "display_name": "Julia (4 threads) 1.10.0",
   "language": "julia",
   "name": "julia-_4-threads_-1.10"
  },
  "language_info": {
   "file_extension": ".jl",
   "mimetype": "application/julia",
   "name": "julia",
   "version": "1.10.0"
  },
  "widgets": {
   "application/vnd.jupyter.widget-state+json": {
    "state": {},
    "version_major": 2,
    "version_minor": 0
   }
  }
 },
 "nbformat": 4,
 "nbformat_minor": 5
}
