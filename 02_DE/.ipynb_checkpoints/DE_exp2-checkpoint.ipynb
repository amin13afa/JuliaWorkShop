{
 "cells": [
  {
   "cell_type": "markdown",
   "id": "98f32c59-7cb4-4973-915a-bc0954197136",
   "metadata": {},
   "source": [
    "# Verhulst Equation "
   ]
  },
  {
   "cell_type": "markdown",
   "id": "7701924c-03cc-4fed-af1f-f4577c3e913a",
   "metadata": {},
   "source": [
    "[Pierre Francois Verhulst](https://en.wikipedia.org/wiki/Pierre_Fran%C3%A7ois_Verhulst)"
   ]
  },
  {
   "cell_type": "markdown",
   "id": "daf34353-94cb-477e-a34e-2339e7599951",
   "metadata": {},
   "source": [
    "### ODE"
   ]
  },
  {
   "cell_type": "markdown",
   "id": "1e0b7efb-9e53-4604-8eff-0d417834a891",
   "metadata": {},
   "source": [
    "Version of equation popularized by Raymond Pearl and Lowell Reed:"
   ]
  },
  {
   "cell_type": "markdown",
   "id": "db18f5d3-86c5-4398-889f-d9f5b495e682",
   "metadata": {},
   "source": [
    "$$\n",
    "\\frac{dN}{dt} = rN \\left(1 - \\frac{N}{K}\\right)\n",
    "$$"
   ]
  },
  {
   "cell_type": "markdown",
   "id": "03a21bd5-a8ca-4d49-b6ce-94300225db52",
   "metadata": {},
   "source": [
    "where $N$ is the population at any time $t$,\n",
    "\n",
    "and $r$ is the growth rate of the population\n",
    "\n",
    "and $K$ is the maximum population that the environment can support"
   ]
  },
  {
   "cell_type": "markdown",
   "id": "7e0ff1a6-9a46-4235-8bd6-c5bd51e70c85",
   "metadata": {},
   "source": [
    "$$\n",
    "\\frac{du}{dt} = f(u, p, t)\n",
    "$$"
   ]
  },
  {
   "cell_type": "markdown",
   "id": "4f6b8c1d-afe6-4113-8277-4d92262b9f19",
   "metadata": {},
   "source": [
    "$$f(u, p, t) = p[1]u \\left( 1 - \\frac{u}{p[2]} \\right)$$"
   ]
  },
  {
   "cell_type": "markdown",
   "id": "bc60425f-6d7a-4e58-a175-b32df80b45f8",
   "metadata": {},
   "source": [
    "# Define Problem "
   ]
  },
  {
   "cell_type": "code",
   "execution_count": null,
   "id": "9263b1b8-3528-4b91-bc9f-fd9e24a620b3",
   "metadata": {},
   "outputs": [],
   "source": [
    "function verhulst(u,p,t)\n",
    "    N = u\n",
    "    r,K = p\n",
    "    r*N*(1 - (N/K))\n",
    "end"
   ]
  },
  {
   "cell_type": "markdown",
   "id": "2b3edb31-797b-4db5-ae8e-e9dd45fdd9de",
   "metadata": {},
   "source": [
    "# Assign Variables "
   ]
  },
  {
   "cell_type": "markdown",
   "id": "cf16e2db-27c2-4345-be7a-ce3b244f4242",
   "metadata": {},
   "source": [
    "$u_0$ : Population\n",
    "\n",
    "$p$: Parameters\n",
    " \n",
    "$r$: Growth Rate per Month\n",
    "\n",
    "$K$: Maximum Population\n",
    "\n",
    "$t$ : time in month "
   ]
  },
  {
   "cell_type": "code",
   "execution_count": null,
   "id": "cb481c11-6430-4527-9f6a-646bd7a9a3a9",
   "metadata": {},
   "outputs": [],
   "source": [
    "u₀ = 10;\n",
    "r = 0.3;  # 0:1\n",
    "K = 10000;\n",
    "p = [r,K];\n",
    "tspan = (0.0,72.0);"
   ]
  },
  {
   "cell_type": "markdown",
   "id": "2e6cb5a7-916c-40dd-b16b-710167c82737",
   "metadata": {},
   "source": [
    "# ODEProblem"
   ]
  },
  {
   "cell_type": "code",
   "execution_count": null,
   "id": "8cc73dd6-e7ce-4803-8c90-0cee810466c8",
   "metadata": {},
   "outputs": [],
   "source": [
    "prob = ODEProblem(verhulst,u₀,tspan,p)"
   ]
  },
  {
   "cell_type": "markdown",
   "id": "4de4ddbe-6a8f-4a03-9b39-977bad3ebe33",
   "metadata": {},
   "source": [
    "# Solve Problem"
   ]
  },
  {
   "cell_type": "code",
   "execution_count": null,
   "id": "5c371a65-0142-4451-8750-4d23588ccfdd",
   "metadata": {},
   "outputs": [],
   "source": [
    "sol = solve(prob)"
   ]
  },
  {
   "cell_type": "code",
   "execution_count": null,
   "id": "7b2e8311-471c-439c-ac64-203b9e8740e8",
   "metadata": {},
   "outputs": [],
   "source": [
    "plot(sol,\n",
    "\tlegend = false,\n",
    "\tlinewidth = 2,\n",
    "\ttitle = \"Verhulst Equation\",\n",
    "\txaxis = \"Time in Months\",\n",
    "\tyaxis = \"Rabbit Population\",\n",
    "\tformatter = :plain,\n",
    "\twiden = true,\n",
    "\txlims = (0.0, 72.0),\n",
    "\tylims = (0.0, 1e4)\n",
    ")"
   ]
  },
  {
   "cell_type": "code",
   "execution_count": null,
   "id": "d5b2f196-d7b8-49e2-b70e-bf3c493be496",
   "metadata": {},
   "outputs": [],
   "source": []
  }
 ],
 "metadata": {
  "kernelspec": {
   "display_name": "Julia (4 threads) 1.10.0",
   "language": "julia",
   "name": "julia-_4-threads_-1.10"
  },
  "language_info": {
   "file_extension": ".jl",
   "mimetype": "application/julia",
   "name": "julia",
   "version": "1.10.0"
  },
  "widgets": {
   "application/vnd.jupyter.widget-state+json": {
    "state": {},
    "version_major": 2,
    "version_minor": 0
   }
  }
 },
 "nbformat": 4,
 "nbformat_minor": 5
}
