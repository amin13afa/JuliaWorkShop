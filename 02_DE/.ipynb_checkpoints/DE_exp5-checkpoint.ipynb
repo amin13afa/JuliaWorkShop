{
 "cells": [
  {
   "cell_type": "markdown",
   "id": "e91bddcd-0409-4581-bd70-9d953dc30fe0",
   "metadata": {},
   "source": [
    "#  Simple Harmonic Motion"
   ]
  },
  {
   "cell_type": "markdown",
   "id": "6a4a5e64-aba4-4a8f-921f-965119ce826c",
   "metadata": {},
   "source": [
    "Source: [Wikipedia Article](https://en.wikipedia.org/wiki/Simple_harmonic_motion)"
   ]
  },
  {
   "cell_type": "markdown",
   "id": "bbfe1b68-877a-4a37-b85e-9cbe309a6116",
   "metadata": {},
   "source": [
    "#  Describe Problem"
   ]
  },
  {
   "cell_type": "markdown",
   "id": "7a884b4f-658e-45a4-910a-15a9e9fb3a81",
   "metadata": {},
   "source": [
    "## Second Order Ordinary Differential Equation"
   ]
  },
  {
   "cell_type": "markdown",
   "id": "98bbe22e-d5ef-48ab-bfd2-236f71447bb6",
   "metadata": {},
   "source": [
    "From Hooke's Law:\n",
    "\n",
    "$$F_s = -kx$$"
   ]
  },
  {
   "cell_type": "markdown",
   "id": "fe852f81-d4f7-4f7f-a385-3d5a2a8368a5",
   "metadata": {},
   "source": [
    "$F_s$ : the restoring force of the spring\n",
    "\n",
    "$k$ : characteristic of the spring\n",
    "\n",
    "$x$ : displacement from the equilibrium position"
   ]
  },
  {
   "cell_type": "markdown",
   "id": "c47a0537-f99d-4fe2-8394-f1e357555d68",
   "metadata": {},
   "source": [
    "\n",
    "From Newton's Second Law of Motion:\n",
    "\n",
    "$$F = ma$$\n",
    "\n",
    "\n",
    "$m$ : the mass of the object\n",
    "\n",
    "$a$ :  the acceleration\n",
    "\n",
    "\n",
    "$a = \\frac{d^2x}{dt^2}$"
   ]
  },
  {
   "cell_type": "markdown",
   "id": "62cf78bb-c148-415a-8dd9-b8148cf1a5cc",
   "metadata": {},
   "source": [
    "Combine equations:\n",
    "\n",
    "$F = m \\frac{d^2x}{dt^2} = -kx$\n",
    "\n",
    "\n",
    "$\\frac{d^2x}{dt^2} = - \\frac{k}{m} x$\n",
    "\n",
    "\n",
    "$\\frac{d^2u}{dt^2} = f(du, u, p, t)$"
   ]
  },
  {
   "cell_type": "markdown",
   "id": "ac693920-73c8-4ead-976e-61f0cb02b90a",
   "metadata": {},
   "source": [
    "# Define Julia function "
   ]
  },
  {
   "cell_type": "code",
   "execution_count": null,
   "id": "87c6ab1b-5da0-49a7-bb7c-2b577965d4bc",
   "metadata": {},
   "outputs": [],
   "source": [
    "function harmonic(du,u,p,t)\n",
    "    dx = du\n",
    "    x = u\n",
    "    k, m = p\n",
    "    -(k/m) * x\n",
    "end"
   ]
  },
  {
   "cell_type": "markdown",
   "id": "ddb91f2f-b249-4ec2-80aa-8a4b5f322900",
   "metadata": {},
   "source": [
    "# Assign Variables"
   ]
  },
  {
   "cell_type": "code",
   "execution_count": null,
   "id": "fa1f3626-32a1-4c84-a291-514a41be9d0d",
   "metadata": {},
   "outputs": [],
   "source": [
    "# velocity (m/s)\n",
    "dx_begin = 0.0;"
   ]
  },
  {
   "cell_type": "code",
   "execution_count": null,
   "id": "73c80d8e-c0fc-4241-829d-c8c864f53c0e",
   "metadata": {},
   "outputs": [],
   "source": [
    "# position (m)\n",
    "x_begin = 0.25; # ∈ [-0.25:0.01:0.25]"
   ]
  },
  {
   "cell_type": "code",
   "execution_count": null,
   "id": "f0e9b2cc-6c55-4957-b4ec-d0dd5d5af7cb",
   "metadata": {},
   "outputs": [],
   "source": [
    "# set parameters \n",
    "k = 1.0; # (Newton/m)\n",
    "m = 1.0; # Kg\n",
    "p = [k,m];"
   ]
  },
  {
   "cell_type": "code",
   "execution_count": null,
   "id": "6048fcd3-7add-4685-ae33-536f67847843",
   "metadata": {},
   "outputs": [],
   "source": [
    "# set time \n",
    "t_begin = 0.0;\n",
    "t_end = 20.0;\n",
    "tspan = (t_begin,t_end);"
   ]
  },
  {
   "cell_type": "markdown",
   "id": "520a3201-ef12-464a-99f3-64a13d4557f2",
   "metadata": {},
   "source": [
    "# Define Second Order ODE"
   ]
  },
  {
   "cell_type": "code",
   "execution_count": null,
   "id": "77b41201-56cc-4664-b77c-fe3580996293",
   "metadata": {},
   "outputs": [],
   "source": [
    "using DifferentialEquations"
   ]
  },
  {
   "cell_type": "code",
   "execution_count": null,
   "id": "a595b0f2-b9f0-44c4-a1a0-ecab6bbd0615",
   "metadata": {},
   "outputs": [],
   "source": [
    "prob = SecondOrderODEProblem(harmonic, dx_begin, x_begin, tspan, p);"
   ]
  },
  {
   "cell_type": "markdown",
   "id": "8f9bcd8e-9b3a-432c-b4cd-af7dcc368e97",
   "metadata": {},
   "source": [
    "# Solve the problem"
   ]
  },
  {
   "cell_type": "code",
   "execution_count": null,
   "id": "07c90109-628e-4b37-a4cf-47cc8d7fbe1d",
   "metadata": {},
   "outputs": [],
   "source": [
    "sol = solve(prob);"
   ]
  },
  {
   "cell_type": "code",
   "execution_count": null,
   "id": "163696d5-cf97-4e54-aa8f-845663608afb",
   "metadata": {},
   "outputs": [],
   "source": [
    "sol(t_begin)[1], sol(t_begin)[2]"
   ]
  },
  {
   "cell_type": "markdown",
   "id": "dad8d8ae-9a2e-49d8-9714-592c6c962cf3",
   "metadata": {},
   "source": [
    "# Plot solution"
   ]
  },
  {
   "cell_type": "code",
   "execution_count": null,
   "id": "967283a5-56ec-4a38-af1c-5c11bae6f2cd",
   "metadata": {},
   "outputs": [],
   "source": [
    "using Plots"
   ]
  },
  {
   "cell_type": "code",
   "execution_count": null,
   "id": "8294259e-1d75-4c1f-b010-e4bcecf4b636",
   "metadata": {},
   "outputs": [],
   "source": [
    "plot(sol)"
   ]
  },
  {
   "cell_type": "code",
   "execution_count": null,
   "id": "d3dc01c5-325b-4a1d-bdfc-079593f1973d",
   "metadata": {},
   "outputs": [],
   "source": [
    "plot(sol,\n",
    "\tlegend = (0.8, 0.09),\n",
    "\tlinewidth = 2,\n",
    "\ttitle = \"Simple Harmonic Motion\",\n",
    "\txaxis = \"Time (seconds)\",\n",
    "\tyaxis = \"Velocity (m/s) | Position (m)\",\n",
    "\tlabels = [\"Velocity\" \"Position\"],\n",
    "\txlims = (0.0, 20.0),\n",
    "\tylims = (-0.5, 0.5)\n",
    ")"
   ]
  },
  {
   "cell_type": "code",
   "execution_count": null,
   "id": "8c0eda6a-f864-4a73-a2d0-d9c6536a18a0",
   "metadata": {},
   "outputs": [],
   "source": [
    "length(sol.t)"
   ]
  },
  {
   "cell_type": "code",
   "execution_count": null,
   "id": "6c3f4abf-4649-498a-b47a-f0d033a14485",
   "metadata": {},
   "outputs": [],
   "source": [
    "p = plot(sol,idxs=(1,2))"
   ]
  },
  {
   "cell_type": "code",
   "execution_count": null,
   "id": "498d63c7-8366-466d-a421-34970d248593",
   "metadata": {},
   "outputs": [],
   "source": [
    "@gif for j in 1:33\n",
    "    scatter(p,(sol.u[j][1],sol.u[j][2]))\n",
    "end"
   ]
  },
  {
   "cell_type": "code",
   "execution_count": null,
   "id": "9d7a564b-b614-4b6d-91d0-1c0cf7475a98",
   "metadata": {},
   "outputs": [],
   "source": []
  }
 ],
 "metadata": {
  "kernelspec": {
   "display_name": "Julia (4 threads) 1.10.0",
   "language": "julia",
   "name": "julia-_4-threads_-1.10"
  },
  "language_info": {
   "file_extension": ".jl",
   "mimetype": "application/julia",
   "name": "julia",
   "version": "1.10.0"
  },
  "widgets": {
   "application/vnd.jupyter.widget-state+json": {
    "state": {},
    "version_major": 2,
    "version_minor": 0
   }
  }
 },
 "nbformat": 4,
 "nbformat_minor": 5
}
