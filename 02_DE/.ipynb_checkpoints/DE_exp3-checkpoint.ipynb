{
 "cells": [
  {
   "cell_type": "markdown",
   "id": "ad62fdc1-2f77-42ad-b8e2-7c67d355b8b7",
   "metadata": {},
   "source": [
    "# Second Order DE"
   ]
  },
  {
   "cell_type": "markdown",
   "id": "ae0428b5-9bc9-43c4-a8fb-95be447c728c",
   "metadata": {},
   "source": [
    "# Projectile Motion"
   ]
  },
  {
   "cell_type": "markdown",
   "id": "3f5c9b11-ea90-41a3-b510-895a220d4f0e",
   "metadata": {},
   "source": [
    "# Describe Problem"
   ]
  },
  {
   "cell_type": "markdown",
   "id": "4bf26ade-3756-4582-b791-4c697e5d4f52",
   "metadata": {},
   "source": [
    "Relationship between Position, Velocity and Acceleration\n",
    "\n",
    "$$u = position$$\n",
    "\n",
    "\n",
    "$$\\frac{du}{dt} = velocity$$\n",
    "\n",
    "\n",
    "$$\\frac{dv}{dt} = acceleration$$\n",
    "\n",
    "\n",
    "$$\\frac{d^2u}{dt^2} = acceleration$$"
   ]
  },
  {
   "cell_type": "markdown",
   "id": "1b7fcd5e-b33d-439c-8bde-48fb72f03ce2",
   "metadata": {},
   "source": [
    "$$\\frac{d^2u}{dt^2} = f(du, u, p, t)$$"
   ]
  },
  {
   "cell_type": "markdown",
   "id": "24720c66-ad09-40b7-94d3-6bb7d46ecee6",
   "metadata": {},
   "source": [
    "where $u$ is the unknown function and $du$ is the first derivative of $u$ with respect to $t$."
   ]
  },
  {
   "cell_type": "markdown",
   "id": "8f3e8b55-550f-4cce-8a2c-15460a811146",
   "metadata": {},
   "source": [
    "[horizontal, vertical]\n",
    "\n",
    "\n",
    "$$f(du, u, p, t) = [\\space 0, g \\space]$$"
   ]
  },
  {
   "cell_type": "code",
   "execution_count": null,
   "id": "12bc6fc9-915a-4503-b28f-47c434feceb9",
   "metadata": {},
   "outputs": [],
   "source": [
    "using DifferentialEquations, Plots"
   ]
  },
  {
   "cell_type": "markdown",
   "id": "078b31d5-dde7-4f09-b806-d6aacfbcce13",
   "metadata": {},
   "source": [
    "# Define Function"
   ]
  },
  {
   "cell_type": "code",
   "execution_count": null,
   "id": "90975ab3-1a69-4dd6-9fc6-1b8157857276",
   "metadata": {},
   "outputs": [],
   "source": [
    "f(du,u,p,t) = [0,g]"
   ]
  },
  {
   "cell_type": "code",
   "execution_count": null,
   "id": "5fa8d420-9c1a-4586-9f37-c278b3bf87a6",
   "metadata": {},
   "outputs": [],
   "source": [
    "const g_Earth = -9.806;\n",
    "const g_Moon = -1.625;\n",
    "const g_Mars = -3.728;\n",
    "g = g_Earth;"
   ]
  },
  {
   "cell_type": "markdown",
   "id": "b7262483-bded-438b-b5d0-c39d6ee33d58",
   "metadata": {},
   "source": [
    "# Assign variables"
   ]
  },
  {
   "cell_type": "code",
   "execution_count": null,
   "id": "ce4aaf4d-82bb-424f-8342-55a832b6b5f1",
   "metadata": {},
   "outputs": [],
   "source": [
    "# Velocity \n",
    "\n",
    "# Angle in degree\n",
    "v₀ = 100.0;\n",
    "θ = 45;\n",
    "vx0 = v₀*cosd(θ);\n",
    "vy0 = v₀*sind(θ);\n",
    "du0 = [vx0,vy0];\n"
   ]
  },
  {
   "cell_type": "code",
   "execution_count": null,
   "id": "bbcd8731-8e06-4d52-8faa-13f32fd66be6",
   "metadata": {},
   "outputs": [],
   "source": [
    "# Position in meter\n",
    "x₀ = 0.0;\n",
    "y₀ = 0.0;\n",
    "u₀ = [x₀,y₀];"
   ]
  },
  {
   "cell_type": "code",
   "execution_count": null,
   "id": "936e7607-eeca-433f-9b58-7126a4c773a3",
   "metadata": {},
   "outputs": [],
   "source": [
    "# Time in second\n",
    "\n",
    "t₀ = 0.0;\n",
    "tf = 20.0;\n",
    "tspan = (t₀,tf);"
   ]
  },
  {
   "cell_type": "markdown",
   "id": "5344ec13-c695-4177-8a89-78703fd8de32",
   "metadata": {},
   "source": [
    "# Define Second Order ODE "
   ]
  },
  {
   "cell_type": "code",
   "execution_count": null,
   "id": "3c92e590-f831-4df9-bbd2-0c526954cf12",
   "metadata": {},
   "outputs": [],
   "source": [
    "prob = SecondOrderODEProblem(f,du0,u₀,tspan);\n"
   ]
  },
  {
   "cell_type": "markdown",
   "id": "d8f68b72-2598-4d15-8681-174acd131ed4",
   "metadata": {},
   "source": [
    "# Solve Problem"
   ]
  },
  {
   "cell_type": "code",
   "execution_count": null,
   "id": "bf70271b-46c8-4238-aaf4-622244875545",
   "metadata": {},
   "outputs": [],
   "source": [
    "sol = solve(prob);"
   ]
  },
  {
   "cell_type": "code",
   "execution_count": null,
   "id": "5d9b0506-1d99-4695-a160-429f4cfaf9ea",
   "metadata": {},
   "outputs": [],
   "source": [
    "# values are as follows:\n",
    "# ([Vx,Vy], [x,y])"
   ]
  },
  {
   "cell_type": "code",
   "execution_count": null,
   "id": "2e35b51e-f9e5-44bf-901d-fb7749f00611",
   "metadata": {},
   "outputs": [],
   "source": [
    "sol(20)[3]"
   ]
  },
  {
   "cell_type": "code",
   "execution_count": null,
   "id": "7884a64f-c064-4077-b886-4caee7301ce5",
   "metadata": {},
   "outputs": [],
   "source": [
    "sol(20)"
   ]
  },
  {
   "cell_type": "markdown",
   "id": "cad519b5-9668-4f32-a647-54234e4328e6",
   "metadata": {},
   "source": [
    "# Plot the solution"
   ]
  },
  {
   "cell_type": "code",
   "execution_count": null,
   "id": "eb7eb49e-98f5-402f-a360-a230a82068bc",
   "metadata": {},
   "outputs": [],
   "source": [
    "plot(sol,\n",
    "\tlegend = 2,\n",
    "\tlinewidth = 2,\n",
    "\ttitle = \"Projectile Motion\",\n",
    "\txaxis = \"Time (S)\",\n",
    "\tyaxis = \"Velocity (m/s) | Position (m)\",\n",
    "\tlabels = [\"x Velocity\" \"y Velocity\" \"x Position\" \"y Position\"],\n",
    "\tformatter = :plain,\n",
    "\twiden = true,\n",
    "\txlims = (0.0, 12.0),\n",
    "\tylims = (-500.0, 100.0)\n",
    ")"
   ]
  },
  {
   "cell_type": "code",
   "execution_count": null,
   "id": "97e5f432-e5a4-410c-92c4-ad400a54d38b",
   "metadata": {},
   "outputs": [],
   "source": [
    "plot(sol, idxs = (3,4),\n",
    "\tlegend = false,\n",
    "\tlinewidth = 2,\n",
    "\ttitle = \"Projectile Motion (Trajectory)\",\n",
    "\txaxis = \"x Position (m)\",\n",
    "\tyaxis = \"y Position (m)\",\n",
    "\tformatter = :plain,\n",
    "\twiden = true,\n",
    "\txlims = (0, 1500.0),\n",
    "\tylims = (-500.0, 500.0)\n",
    ")"
   ]
  },
  {
   "cell_type": "code",
   "execution_count": null,
   "id": "4aac6611-f231-4dbe-b95e-b201b10cce51",
   "metadata": {},
   "outputs": [],
   "source": []
  },
  {
   "cell_type": "code",
   "execution_count": null,
   "id": "33ded01d-9089-44a1-90b4-f0b952da1a96",
   "metadata": {},
   "outputs": [],
   "source": []
  },
  {
   "cell_type": "code",
   "execution_count": null,
   "id": "2ab72c7d-c947-4af1-8ddd-88f77c4f24a5",
   "metadata": {},
   "outputs": [],
   "source": []
  },
  {
   "cell_type": "code",
   "execution_count": null,
   "id": "78baed07-ed0b-4d8f-829b-8d74d659dfad",
   "metadata": {},
   "outputs": [],
   "source": []
  }
 ],
 "metadata": {
  "kernelspec": {
   "display_name": "Julia (4 threads) 1.10.0",
   "language": "julia",
   "name": "julia-_4-threads_-1.10"
  },
  "language_info": {
   "file_extension": ".jl",
   "mimetype": "application/julia",
   "name": "julia",
   "version": "1.10.0"
  },
  "widgets": {
   "application/vnd.jupyter.widget-state+json": {
    "state": {},
    "version_major": 2,
    "version_minor": 0
   }
  }
 },
 "nbformat": 4,
 "nbformat_minor": 5
}
