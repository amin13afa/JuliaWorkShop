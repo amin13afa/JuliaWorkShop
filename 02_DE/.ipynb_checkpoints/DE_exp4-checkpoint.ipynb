{
 "cells": [
  {
   "cell_type": "markdown",
   "id": "d3c87988-ec35-46fe-8725-d2ebf079b342",
   "metadata": {},
   "source": [
    "# System of First Order Ordinary Differential Equations"
   ]
  },
  {
   "cell_type": "markdown",
   "id": "62c81aee-8d33-4683-a29e-da75f6cb7727",
   "metadata": {},
   "source": [
    "# Lotka-Volterra Equations (predator-prey equation)"
   ]
  },
  {
   "cell_type": "markdown",
   "id": "e3617ccc-b550-407b-9ced-7f0f5ebc4dad",
   "metadata": {},
   "source": [
    "Source: [Wikipedia Article](https://en.wikipedia.org/wiki/Lotka%E2%80%93Volterra_equations)"
   ]
  },
  {
   "cell_type": "markdown",
   "id": "48484684-7da5-4681-8263-95abf2a47d6f",
   "metadata": {},
   "source": [
    "# Describe Problem"
   ]
  },
  {
   "cell_type": "markdown",
   "id": "999dd370-26c3-4843-afc9-eab651078661",
   "metadata": {},
   "source": [
    "$$\n",
    "\\begin{align}\n",
    "\\frac{dx}{dt} &= \\alpha x - \\beta xy \\\\\n",
    "\\frac{dy}{dt} &= \\delta xy - \\gamma y\n",
    "\\end{align}\n",
    "$$"
   ]
  },
  {
   "cell_type": "markdown",
   "id": "21c7d50e-2ae2-4bc2-a87e-9db0241c87de",
   "metadata": {},
   "source": [
    "where $x$ is the number of prey (e.g., baboons),\n",
    "\n",
    "and $y$ is the number of some predator (e.g., cheetahs)\n",
    "\n",
    "\n",
    "\n",
    "and $\\frac{dx}{dt}$ and $\\frac{dy}{dt}$ represent the instantaneous growth rates of the two populations,\n",
    "\n",
    "and $t$ represents time,\n",
    "\n",
    "\n",
    "and $\\alpha, \\beta, \\gamma, \\delta$ are positive real parameters describing the interaction of the two species.\n",
    "\n",
    "\n",
    "\n",
    "$$f(du, u, p, t) =\n",
    "\\begin{cases}\n",
    "du[1] = p[1] u[1] - p[2] u[1] u[2] \\\\\n",
    "du[2] = p[4] u[1] u[2] - p[3] u[2]\n",
    "\\end{cases}\n",
    "$$"
   ]
  },
  {
   "cell_type": "markdown",
   "id": "03d63171-d82b-4d85-a747-3f5ca2804c53",
   "metadata": {},
   "source": [
    "# Define function in julia "
   ]
  },
  {
   "cell_type": "code",
   "execution_count": null,
   "id": "dce64e87-84cd-410e-b877-b6b04d16d451",
   "metadata": {},
   "outputs": [],
   "source": [
    "function lotka_volterra(du,u,p,t)\n",
    "    x,y = u\n",
    "    # dx, dy = du\n",
    "    α, β, γ, δ = p\n",
    "    du[1] = dx = α * x - β * x * y\n",
    "    du[2] = dy = δ * x * y - γ * y\n",
    "end"
   ]
  },
  {
   "cell_type": "markdown",
   "id": "84929468-dab2-4e96-979e-771616bed42b",
   "metadata": {},
   "source": [
    "# Assign Variables"
   ]
  },
  {
   "cell_type": "markdown",
   "id": "0798064f-4492-40dd-931c-24f7d6650f73",
   "metadata": {},
   "source": [
    "$u$ : Populations\n",
    "\n",
    "\n",
    "$x$ : Populations of Baboons\n",
    "\n",
    "\n",
    "$y$ : Population of Cheetahs\n",
    "\n",
    "$p$ : Parameters\n",
    "\n",
    "$α$ :  Baboon Population Growth Rate\n",
    "\n",
    "$β$ : Baboon Decline Rate\n",
    "\n",
    "$γ$ : Cheetah Population Decline Rate\n",
    "\n",
    "$δ$ : Cheetah Population Growth Rate\n",
    "\n",
    "$t$ : Time in years"
   ]
  },
  {
   "cell_type": "code",
   "execution_count": null,
   "id": "14515f9f-eaea-4cde-9ada-e1a37f7db34a",
   "metadata": {},
   "outputs": [],
   "source": [
    "t_begin = 0;\n",
    "t_end = 100;\n",
    "tspan = (t_begin, t_end);\n",
    "\n",
    "x_begin = 10; # we can choose ∈ [1,20]\n",
    "y_begin = 10; # we can choose ∈ [1,20]\n",
    "u_begin = [x_begin,y_begin];"
   ]
  },
  {
   "cell_type": "code",
   "execution_count": null,
   "id": "a10a839c-d6cd-4884-8dfc-147566ae4d8b",
   "metadata": {},
   "outputs": [],
   "source": [
    "# set parameters of prey\n",
    "α = 1.1; # we can set it ∈ [0.1:0.01:2]  # Growth rate\n",
    "β = 0.4; #  we can set it ∈ [0.1:0.01:1]  # decline rate\n",
    "\n",
    "# set parameters of predator \n",
    "δ = 0.1;  # we can set it ∈ [0.1:0.01:1] # Growth rate\n",
    "γ = 0.4;  # we can set it ∈ [0.1:0.01:1] # decline rate\n",
    "p = [α,β,γ,δ];"
   ]
  },
  {
   "cell_type": "markdown",
   "id": "3939050c-35af-440c-b8a6-6a548c521531",
   "metadata": {},
   "source": [
    "# Define System of First Order ODEs Problem"
   ]
  },
  {
   "cell_type": "code",
   "execution_count": null,
   "id": "b790d33f-5ef1-49cd-a0b9-868aa56ffea7",
   "metadata": {},
   "outputs": [],
   "source": [
    "using DifferentialEquations "
   ]
  },
  {
   "cell_type": "code",
   "execution_count": null,
   "id": "5646fff5-76b4-4ebb-827f-c99ab07310b4",
   "metadata": {},
   "outputs": [],
   "source": [
    "prob = ODEProblem(lotka_volterra,u_begin,tspan,p);"
   ]
  },
  {
   "cell_type": "markdown",
   "id": "1f412815-1578-4064-ba9d-6eac3e1943bd",
   "metadata": {},
   "source": [
    "# Solve Problem"
   ]
  },
  {
   "cell_type": "code",
   "execution_count": null,
   "id": "d14799f1-eb37-4356-863b-bb8c29173f9b",
   "metadata": {},
   "outputs": [],
   "source": [
    "sol = solve(prob);"
   ]
  },
  {
   "cell_type": "code",
   "execution_count": null,
   "id": "3e0ba27c-0086-45f1-9194-43d71f5b71d2",
   "metadata": {},
   "outputs": [],
   "source": [
    "sol(2)[1]"
   ]
  },
  {
   "cell_type": "code",
   "execution_count": null,
   "id": "1dafc460-6c2c-4aa7-a9b3-2c441b10de5d",
   "metadata": {},
   "outputs": [],
   "source": [
    "sol(t_end)[2]"
   ]
  },
  {
   "cell_type": "markdown",
   "id": "de780b0c-6888-4de8-a3fb-aff43f927511",
   "metadata": {},
   "source": [
    "# Plot Solution"
   ]
  },
  {
   "cell_type": "code",
   "execution_count": null,
   "id": "6a3d09b2-5989-4235-90ba-d6c87c15e715",
   "metadata": {},
   "outputs": [],
   "source": [
    "using Plots "
   ]
  },
  {
   "cell_type": "code",
   "execution_count": null,
   "id": "bb26567f-4c62-4c03-b3af-09e2d33951aa",
   "metadata": {},
   "outputs": [],
   "source": [
    "plot(sol)"
   ]
  },
  {
   "cell_type": "code",
   "execution_count": null,
   "id": "6ef596ad-d845-452a-96a4-ecdccb9d8251",
   "metadata": {},
   "outputs": [],
   "source": [
    "plot(sol,\n",
    "    title = \"Lotka-Voltra Equation\",\n",
    "    xaxis = \"Time (Years)\",\n",
    "    yaxis = \"Population\",\n",
    "    labels = [\"Prey\",\"Predator\"],\n",
    "    # legend=:bottomright,\n",
    "    legend=false,\n",
    "    xlims=[0,105],\n",
    "    ylims=[0,30],\n",
    "    lw=2,\n",
    "    # aspect_ratio = 1\n",
    ")"
   ]
  },
  {
   "cell_type": "code",
   "execution_count": null,
   "id": "29c310f4-3d86-46fd-ad9e-0ca2fed91229",
   "metadata": {},
   "outputs": [],
   "source": [
    "p = plot(sol,\n",
    "    idxs=(1,2),\n",
    "    title=\"Lotka-Voltra phase space\",\n",
    "    legend=false,\n",
    "    xaxis = \"Prey Population\",\n",
    "    yaxis = \"Predator Population\",\n",
    "    lw=2,\n",
    "    xlims=[-1,32],\n",
    "    ylims=[-1,12]\n",
    ")"
   ]
  },
  {
   "cell_type": "code",
   "execution_count": null,
   "id": "7cd902e4-600a-4cc1-97d5-b9b95ae51eb2",
   "metadata": {},
   "outputs": [],
   "source": [
    "t_test = 4;\n",
    "scatter(p,(sol[t_test][1],sol[t_test][2]))"
   ]
  },
  {
   "cell_type": "code",
   "execution_count": null,
   "id": "6de53130-fbb5-4197-8665-6cfba5e903fe",
   "metadata": {},
   "outputs": [],
   "source": [
    "length(sol.t)"
   ]
  },
  {
   "cell_type": "code",
   "execution_count": null,
   "id": "351a5186-7b26-4fcb-96ec-2d7c9258eb6a",
   "metadata": {},
   "outputs": [],
   "source": [
    "# @gif for j in 1:1:142\n",
    "#     t_test = j\n",
    "#     scatter(p,(sol[t_test][1],sol[t_test][2]))\n",
    "# end\n",
    "    "
   ]
  },
  {
   "cell_type": "code",
   "execution_count": null,
   "id": "04760ad5-27a3-4fb4-a1a0-0cd3ee0b610e",
   "metadata": {},
   "outputs": [],
   "source": [
    "sol2 = solve(prob,reltol=1e-8,abstol=1e-8);"
   ]
  },
  {
   "cell_type": "code",
   "execution_count": null,
   "id": "34bf94a5-8ec6-4e1f-8239-c7681a5808d6",
   "metadata": {},
   "outputs": [],
   "source": [
    "plot(sol2,\n",
    "    title = \"Lotka-Voltra Equation\",\n",
    "    xaxis = \"Time (Years)\",\n",
    "    yaxis = \"Population\",\n",
    "    labels = [\"Prey\",\"Predator\"],\n",
    "    # legend=:bottomright,\n",
    "    legend=false,\n",
    "    xlims=[0,105],\n",
    "    ylims=[0,30],\n",
    "    lw=2,\n",
    "    # aspect_ratio = 1\n",
    ")"
   ]
  },
  {
   "cell_type": "code",
   "execution_count": null,
   "id": "f025e298-640e-4b3f-841b-173e3e5147e9",
   "metadata": {},
   "outputs": [],
   "source": [
    "p2 = plot(sol2,\n",
    "    idxs=(1,2),\n",
    "    title=\"Lotka-Voltra phase space\",\n",
    "    legend=false,\n",
    "    xaxis = \"Prey Population\",\n",
    "    yaxis = \"Predator Population\",\n",
    "    lw=2,\n",
    "    xlims=[-1,32],\n",
    "    ylims=[-1,12]\n",
    ")"
   ]
  },
  {
   "cell_type": "code",
   "execution_count": null,
   "id": "1e3d6339-a470-46e9-a15d-2a69e974aca0",
   "metadata": {},
   "outputs": [],
   "source": [
    "@gif for j in 1:1:442\n",
    "    t_test = j\n",
    "    scatter(p,(sol2[t_test][1],sol2[t_test][2]), c=:red,markersize=5)\n",
    "end"
   ]
  },
  {
   "cell_type": "code",
   "execution_count": null,
   "id": "07601be1-b912-4c3b-a506-14adfe72b6a1",
   "metadata": {},
   "outputs": [],
   "source": []
  },
  {
   "cell_type": "code",
   "execution_count": null,
   "id": "42fe73c3-2898-4064-877a-8a4a915b42c3",
   "metadata": {},
   "outputs": [],
   "source": []
  }
 ],
 "metadata": {
  "kernelspec": {
   "display_name": "Julia (4 threads) 1.10.0",
   "language": "julia",
   "name": "julia-_4-threads_-1.10"
  },
  "language_info": {
   "file_extension": ".jl",
   "mimetype": "application/julia",
   "name": "julia",
   "version": "1.10.0"
  },
  "widgets": {
   "application/vnd.jupyter.widget-state+json": {
    "state": {},
    "version_major": 2,
    "version_minor": 0
   }
  }
 },
 "nbformat": 4,
 "nbformat_minor": 5
}
