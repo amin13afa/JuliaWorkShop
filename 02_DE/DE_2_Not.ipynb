{
 "cells": [
  {
   "cell_type": "markdown",
   "id": "a591f255-94ef-48d4-b217-9ca5b0ca9f63",
   "metadata": {},
   "source": [
    "# Example 2"
   ]
  },
  {
   "cell_type": "markdown",
   "id": "c4fc4929-e762-4fc4-9122-8bc40bb786e4",
   "metadata": {},
   "source": [
    "An interesting model\n",
    "\n",
    "\n",
    "<font color=yellow>Butterfly Attractor </font>  \n",
    "\n",
    "or sometimes called \n",
    "\n",
    "<font color=magenta>Lorenz system</font>\n",
    "\n",
    "We can learn more about this model [here](https://en.wikipedia.org/wiki/Butterfly_effect)"
   ]
  },
  {
   "cell_type": "markdown",
   "id": "d4da58ef-da88-4437-824b-ba2f798828a8",
   "metadata": {},
   "source": [
    "# Introduction the model "
   ]
  },
  {
   "cell_type": "markdown",
   "id": "adf82db7-d6de-4c57-9df5-f379548f2291",
   "metadata": {},
   "source": [
    "Butterfly Attractor \n",
    "$$\n",
    "\\frac{dx}{dt} = a(y - x)\n",
    "$$\n",
    "$$\n",
    "\\frac{dy}{dt} = x(b-z) - y\n",
    "$$\n",
    "$$\n",
    "\\frac{dz}{dt} = xy - cz\n",
    "$$"
   ]
  },
  {
   "cell_type": "markdown",
   "id": "1537646a-59c6-4de4-ade7-35b60bad0c7b",
   "metadata": {},
   "source": [
    "We choose our vars as follows :\n",
    "$$\n",
    "u = \\begin{bmatrix}\n",
    "x \\\\ y \\\\ z\n",
    "\\end{bmatrix}\n",
    "$$\n",
    "\n",
    "and also \n",
    "\n",
    "$$\n",
    "p = \\begin{bmatrix}\n",
    "a \\\\ b \\\\ c\n",
    "\\end{bmatrix}\n",
    "$$"
   ]
  },
  {
   "cell_type": "markdown",
   "id": "5ed91c62-1c69-4852-a393-f1b82cbcc431",
   "metadata": {},
   "source": [
    "# Code the model"
   ]
  },
  {
   "cell_type": "code",
   "execution_count": null,
   "id": "2673f86f-9b1a-400b-a272-5f3a3ef7fe19",
   "metadata": {},
   "outputs": [],
   "source": [
    "# Import library\n",
    "using DifferentialEquations \n",
    "using Plots"
   ]
  },
  {
   "cell_type": "code",
   "execution_count": null,
   "id": "2657f4ae-6c13-4051-ba35-8da2727e4b90",
   "metadata": {},
   "outputs": [],
   "source": [
    "# Define problem\n",
    "function butterfly(du,u,p,t)\n",
    "    a,b,c = p\n",
    "    du[1] = a*(u[2] - u[1])\n",
    "    du[2] = u[1]*(b - u[3]) - u[2]\n",
    "    du[3] = u[1]*u[2] - c*u[3]\n",
    "end;"
   ]
  },
  {
   "cell_type": "code",
   "execution_count": null,
   "id": "7e7bb391-0c1c-4a9d-a3b5-5cef58f590ab",
   "metadata": {},
   "outputs": [],
   "source": [
    "# Define problem variables\n",
    "u₀ = [1.0,0.0,0.0];\n",
    "p = [10,28,8/3];\n",
    "tspan = (0.0,100.0);"
   ]
  },
  {
   "cell_type": "code",
   "execution_count": null,
   "id": "79261f67-587f-4edf-b714-62ae5bcf6af3",
   "metadata": {},
   "outputs": [],
   "source": [
    "prob = ODEProblem(butterfly,u₀,tspan,p);"
   ]
  },
  {
   "cell_type": "code",
   "execution_count": null,
   "id": "2a11d2ec-bf69-4d5b-b160-f23fff1ae40e",
   "metadata": {},
   "outputs": [],
   "source": [
    "sol = solve(prob);"
   ]
  },
  {
   "cell_type": "code",
   "execution_count": null,
   "id": "3aae48c9-b519-4857-8de6-dd5d85cfe6db",
   "metadata": {},
   "outputs": [],
   "source": [
    "sol.t[13], sol[13];"
   ]
  },
  {
   "cell_type": "code",
   "execution_count": null,
   "id": "1092a39e-dba8-47e0-9b10-17c69e5dff3b",
   "metadata": {},
   "outputs": [],
   "source": [
    "# sol[j,i] is the value of the jth variable at time i:\n",
    "sol[1,13];"
   ]
  },
  {
   "cell_type": "code",
   "execution_count": null,
   "id": "18a9f706-964f-466a-9629-756ff44e1457",
   "metadata": {},
   "outputs": [],
   "source": [
    "A = convert(Array, sol);\n",
    "ndims(A), size(A);"
   ]
  },
  {
   "cell_type": "code",
   "execution_count": null,
   "id": "bcdeb3ec-0f1b-4f2a-848e-51c7a222c874",
   "metadata": {},
   "outputs": [],
   "source": [
    "plot(sol);"
   ]
  },
  {
   "cell_type": "code",
   "execution_count": null,
   "id": "59e76052-cbc2-4017-94a7-346262539a22",
   "metadata": {},
   "outputs": [],
   "source": [
    "plot(sol,idxs=(1,2,3)); #vars will depricate "
   ]
  },
  {
   "cell_type": "code",
   "execution_count": null,
   "id": "6c3d5c6b-4c92-4d5b-8727-3afae3631768",
   "metadata": {},
   "outputs": [],
   "source": [
    "# To not be dense \n",
    "plot(sol, idxs=(1,2,3),denseplot=false);"
   ]
  },
  {
   "cell_type": "code",
   "execution_count": null,
   "id": "19186d17-b08b-446a-8383-ba50dd2dc545",
   "metadata": {},
   "outputs": [],
   "source": []
  },
  {
   "cell_type": "code",
   "execution_count": null,
   "id": "480bc50b-2acc-428a-b589-ea9c4b1a8e78",
   "metadata": {},
   "outputs": [],
   "source": [
    "\n",
    "@kwdef mutable struct Lorenz\n",
    "    dt::Float64 = 0.02\n",
    "    σ::Float64 = 10\n",
    "    ρ::Float64 = 28\n",
    "    β::Float64 = 8/3\n",
    "    x::Float64 = 2\n",
    "    y::Float64 = 1\n",
    "    z::Float64 = 1\n",
    "end\n",
    "\n",
    "function step!(l::Lorenz)\n",
    "    dx = l.σ * (l.y - l.x);         l.x += l.dt * dx\n",
    "    dy = l.x * (l.ρ - l.z) - l.y;   l.y += l.dt * dy\n",
    "    dz = l.x * l.y - l.β * l.z;     l.z += l.dt * dz\n",
    "end\n",
    "\n",
    "attractor = Lorenz()\n",
    "\n",
    "# initialize a 3D plot with 1 empty series\n",
    "plt = plot3d(\n",
    "    1,\n",
    "    xlim = (-30, 30),\n",
    "    ylim = (-30, 30),\n",
    "    zlim = (0, 60),\n",
    "    title = \"Lorenz Attractor\",\n",
    "    marker = 2,\n",
    ")\n",
    "\n",
    "# build an animated gif by pushing new points to the plot, saving every 10th frame\n",
    "@gif for i=1:1500\n",
    "    step!(attractor)\n",
    "    push!(plt, attractor.x, attractor.y, attractor.z)\n",
    "end every 10;"
   ]
  },
  {
   "cell_type": "code",
   "execution_count": null,
   "id": "802eb244-733d-436a-85d4-567b886f6c07",
   "metadata": {},
   "outputs": [],
   "source": []
  }
 ],
 "metadata": {
  "kernelspec": {
   "display_name": "Julia (4 threads) 1.10.0",
   "language": "julia",
   "name": "julia-_4-threads_-1.10"
  },
  "language_info": {
   "file_extension": ".jl",
   "mimetype": "application/julia",
   "name": "julia",
   "version": "1.10.0"
  },
  "widgets": {
   "application/vnd.jupyter.widget-state+json": {
    "state": {},
    "version_major": 2,
    "version_minor": 0
   }
  }
 },
 "nbformat": 4,
 "nbformat_minor": 5
}
