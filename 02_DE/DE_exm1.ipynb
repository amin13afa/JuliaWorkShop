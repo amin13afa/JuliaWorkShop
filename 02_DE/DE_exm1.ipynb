{
 "cells": [
  {
   "cell_type": "code",
   "execution_count": null,
   "id": "b09363e5-7e2c-4b95-9ff2-0c22cb77e218",
   "metadata": {},
   "outputs": [],
   "source": []
  },
  {
   "cell_type": "markdown",
   "id": "f9055e2e-cc2e-4d25-9524-c87c611cad3e",
   "metadata": {},
   "source": [
    "[Radio Carbon Dating](https://en.wikipedia.org/wiki/Radiocarbon_dating)"
   ]
  },
  {
   "cell_type": "markdown",
   "id": "65ee79f7-3e48-44e5-85eb-9df0a61c2ba7",
   "metadata": {},
   "source": [
    "Carbon Isotopes\n",
    "- 2 stables\n",
    "- Carbon-12\n",
    "- Carbon-13\n",
    "- 1 radioactivate\n",
    "- Carbon-14(radiocarbon) (Halflife 5_730)\n",
    "\n"
   ]
  },
  {
   "cell_type": "code",
   "execution_count": null,
   "id": "0d625f02-3ec9-43b3-a286-47d1b02b4e44",
   "metadata": {},
   "outputs": [],
   "source": [
    "using DifferentialEquations, Plots "
   ]
  },
  {
   "cell_type": "markdown",
   "id": "07b889e0-f792-4273-8ce0-d12d740d0042",
   "metadata": {},
   "source": [
    "# Describe Problem"
   ]
  },
  {
   "cell_type": "markdown",
   "id": "f89bcf01-f097-4e8a-b001-e4d3fc9a322e",
   "metadata": {},
   "source": [
    "$$\n",
    "\\frac{du}{dt} = pu\n",
    "$$"
   ]
  },
  {
   "cell_type": "markdown",
   "id": "aef5c75c-6325-4822-a5a5-9f64eab7c338",
   "metadata": {},
   "source": [
    "# Define Function"
   ]
  },
  {
   "cell_type": "code",
   "execution_count": null,
   "id": "eea204b7-a336-4688-9ba6-02d7415f6716",
   "metadata": {},
   "outputs": [],
   "source": [
    "f(u,p,t) = p*u"
   ]
  },
  {
   "cell_type": "markdown",
   "id": "053c6f69-1366-4bed-8903-ccffea9ba3dc",
   "metadata": {},
   "source": [
    "# Assign Variables"
   ]
  },
  {
   "cell_type": "markdown",
   "id": "2a5afc30-4cbb-4216-a8f0-fbe4ac296258",
   "metadata": {},
   "source": [
    "u: $^{14}C$ Percent Remaining"
   ]
  },
  {
   "cell_type": "code",
   "execution_count": null,
   "id": "f49f929b-b0a6-4a40-9d0e-5606591d805d",
   "metadata": {},
   "outputs": [],
   "source": [
    "u₀ = 1.0;"
   ]
  },
  {
   "cell_type": "markdown",
   "id": "8d566dfd-384b-457f-a592-433525dbbdc7",
   "metadata": {},
   "source": [
    "p: $^{14}C$ Decay Constant"
   ]
  },
  {
   "cell_type": "code",
   "execution_count": null,
   "id": "905f723b-c629-403f-9ccb-518ab823d77f",
   "metadata": {},
   "outputs": [],
   "source": [
    "const HalfLife = 5730.0; # ± 40 years"
   ]
  },
  {
   "cell_type": "code",
   "execution_count": null,
   "id": "0f397502-d48f-4966-bbe6-326522bae363",
   "metadata": {},
   "outputs": [],
   "source": [
    "c = log(2) / HalfLife;"
   ]
  },
  {
   "cell_type": "code",
   "execution_count": null,
   "id": "5134fe45-04d5-43ca-b0e2-10918a8d647b",
   "metadata": {},
   "outputs": [],
   "source": [
    "p = -c;"
   ]
  },
  {
   "cell_type": "code",
   "execution_count": null,
   "id": "bd4438a8-b8a3-4003-aaf0-dcc11617e1b5",
   "metadata": {},
   "outputs": [],
   "source": [
    "t_i = 0.0;\n",
    "t_f = 50_000;\n",
    "tspan = (t_i,t_f);"
   ]
  },
  {
   "cell_type": "markdown",
   "id": "e357e89c-9a46-4165-ab49-b450d2e5562a",
   "metadata": {},
   "source": [
    "# Define ODEProblem"
   ]
  },
  {
   "cell_type": "code",
   "execution_count": null,
   "id": "010ec4d1-be3c-42d1-beef-5b775a3941c1",
   "metadata": {},
   "outputs": [],
   "source": [
    "prob = ODEProblem(f,u₀,tspan,p);"
   ]
  },
  {
   "cell_type": "code",
   "execution_count": null,
   "id": "a9d0ab89-bb2e-44cb-893e-296ae81509fa",
   "metadata": {},
   "outputs": [],
   "source": [
    "sol = solve(prob);"
   ]
  },
  {
   "cell_type": "code",
   "execution_count": null,
   "id": "fe312158-5503-4dae-9efb-d657255a99c6",
   "metadata": {},
   "outputs": [],
   "source": [
    "theme=:dark\n",
    "plot(sol,title=\"Radiocarbon Dating\",\n",
    "    xaxis=\"Time in Years\",\n",
    "    yaxis=\"C-14 Percent Remaining\",\n",
    "    legend = false,\n",
    "    formatter=:plain,\n",
    "    widen=true,\n",
    "    xlims=[0,5e4],\n",
    "    ylims=[0,1],\n",
    "    linewidth=2,\n",
    "    grid=true,\n",
    "    )"
   ]
  },
  {
   "cell_type": "code",
   "execution_count": null,
   "id": "389af368-05a5-4f3e-b67b-a249f2b655cb",
   "metadata": {},
   "outputs": [],
   "source": []
  }
 ],
 "metadata": {
  "kernelspec": {
   "display_name": "Julia (4 threads) 1.10.0",
   "language": "julia",
   "name": "julia-_4-threads_-1.10"
  },
  "language_info": {
   "file_extension": ".jl",
   "mimetype": "application/julia",
   "name": "julia",
   "version": "1.10.0"
  },
  "widgets": {
   "application/vnd.jupyter.widget-state+json": {
    "state": {},
    "version_major": 2,
    "version_minor": 0
   }
  }
 },
 "nbformat": 4,
 "nbformat_minor": 5
}
