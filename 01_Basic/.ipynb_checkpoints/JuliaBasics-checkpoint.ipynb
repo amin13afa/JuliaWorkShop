{
 "cells": [
  {
   "cell_type": "markdown",
   "id": "b05f6d9a-3eac-4513-8d0a-318dc80ec93f",
   "metadata": {},
   "source": [
    "# Introduction "
   ]
  },
  {
   "cell_type": "markdown",
   "id": "55d786e6-070d-4dbf-9b4a-f1a1bccf30b3",
   "metadata": {},
   "source": [
    "- [x] Who?\n",
    "- [x] When?\n",
    "- [x] Why?"
   ]
  },
  {
   "cell_type": "markdown",
   "id": "0133aea3-fc16-4c77-8a18-5624bcf9b7b8",
   "metadata": {},
   "source": [
    "Julia language \n",
    "\n",
    "Julia is a scientific computing language\n",
    "\n",
    "[Julia](https://en.wikipedia.org/wiki/Julia_(programming_language)"
   ]
  },
  {
   "cell_type": "markdown",
   "id": "c5f4339d-4993-44a3-8e15-d1dc70f7b264",
   "metadata": {},
   "source": [
    "Who?\n",
    "\n",
    "[Jeff Bezanson](https://en.wikipedia.org/wiki/Jeff_Bezanson_(programmer))\n",
    "\n",
    "[Stefan Karpinski](https://en.wikipedia.org/wiki/Stefan_Karpinski)\n",
    "\n",
    "[Viral B. Shah](https://en.wikipedia.org/wiki/Viral_B._Shah)\n",
    "\n",
    "[Alan Edelman](https://en.wikipedia.org/wiki/Alan_Edelman)\n",
    "\n"
   ]
  },
  {
   "cell_type": "markdown",
   "id": "3937f190-7ee1-45df-880d-41f2c1265216",
   "metadata": {},
   "source": [
    "When?\n",
    "\n",
    "Work on Julia began in 2009, first release 2012"
   ]
  },
  {
   "cell_type": "markdown",
   "id": "2b5581da-03f3-40b8-81c7-246145bec96f",
   "metadata": {},
   "source": [
    "Why?  😍 \n",
    "\n",
    "in April 2012, Karpinski said of the name \"Julia\": __\"There's no good reason, really. It just seemed like a pretty name\"__\n",
    "\n",
    "[Their post on ](https://julialang.org/blog/2012/02/why-we-created-julia)\n",
    "\n",
    "\n",
    "- <font color=magenta>Open source</font>\n",
    "- <font color=magenta>Speed of C </font>\n",
    "- <font color=magenta>Dynamism of Ruby</font>\n",
    "- <font color=magenta>Macros like Lisp</font>\n",
    "- <font color=magenta>Mathematical notation like Matlab</font>\n",
    "- <font color=magenta>General programming as Python</font>\n",
    "- <font color=magenta>Easy for statistics as R</font>\n",
    "- <font color=magenta>We want it interactive and we want it compiled</font>"
   ]
  },
  {
   "cell_type": "markdown",
   "id": "cee5d297-1dc1-4ecd-b8c7-e3644eefdd50",
   "metadata": {},
   "source": [
    "The latest version is : Julia 1.10\n",
    "\n",
    "[Julia 1.10 some brilliant features](https://julialang.org/blog/2023/12/julia-1.10-highlights/)"
   ]
  },
  {
   "cell_type": "markdown",
   "id": "fcac8fed-8681-4dbc-9713-bf91f877e969",
   "metadata": {},
   "source": [
    "# Let's get start it"
   ]
  },
  {
   "cell_type": "markdown",
   "id": "d9d2cb5f-569a-4b63-b0c6-a28e7a57cb29",
   "metadata": {},
   "source": [
    "- [ ] Installation\n",
    "- [ ] Hello Julia\n",
    "- [ ] Basic Operation\n",
    "- [ ] Data Structures\n",
    "- [ ] Loops\n",
    "- [ ] Conditionals\n",
    "- [ ] Function"
   ]
  },
  {
   "cell_type": "markdown",
   "id": "72fdd553-9da7-4612-bc4a-050fa6927056",
   "metadata": {},
   "source": [
    "# Installation"
   ]
  },
  {
   "cell_type": "markdown",
   "id": "adbd5fb9-f37b-4fb0-b76b-62c264ab5b3c",
   "metadata": {},
   "source": [
    "It's as easy as possible  😄\n",
    "\n",
    "\n",
    "[Julia installation page](https://julialang.org/downloads/)"
   ]
  },
  {
   "cell_type": "markdown",
   "id": "a4ee6ae0-0a3d-4199-95eb-6adc1a5746a9",
   "metadata": {},
   "source": [
    "# Julia in REPL "
   ]
  },
  {
   "cell_type": "markdown",
   "id": "35d6d128-3cc8-4960-82db-1e80c83e2b2e",
   "metadata": {},
   "source": [
    "<font color=yellow>__REPL__</font> stands for __Read-Eval-Print Loop__\n"
   ]
  },
  {
   "cell_type": "markdown",
   "id": "0b451465-1070-4ce3-ad11-f758445283d9",
   "metadata": {},
   "source": [
    "REPL has five different modes \n",
    "\n",
    "1. <font color=green>Julian mode </font>\n",
    "\n",
    "2. <font color=orange>Help mode</font> $\\rightarrow$ ?\n",
    "\n",
    "3. <font color=red>Shell mode</font>   $\\rightarrow$;\n",
    "\n",
    "4. <font color=blue>Pkg mode</font>   $\\rightarrow$ ]\n",
    "\n",
    "5. <font color=white>Search mode</font>   $\\rightarrow$ ctrl+r/s"
   ]
  },
  {
   "cell_type": "markdown",
   "id": "f8dcb256-fb5c-44d2-a7bc-08444d76061f",
   "metadata": {},
   "source": [
    "# Julia Package Installation"
   ]
  },
  {
   "cell_type": "markdown",
   "id": "de7feb08-4fb6-4866-9d0d-8b941ddb62e6",
   "metadata": {},
   "source": [
    "Installing packages in julia in each of following manner : \n",
    "\n",
    "1. Using Pkg\n",
    "2. In pkg mode\n",
    "------------------------------\n",
    "<font color=yellow>Uisng Pkg</font>\n",
    "```julia\n",
    "julia> uisng Pkg\n",
    "julia> Pkg.add(\"LinearAlgebra\")\n",
    "```\n",
    "\n",
    "-------------------------------\n",
    "<font color=yellow>In pkg mode</font>\n",
    "```julia\n",
    "julia> ]\n",
    "(@v1.10) pkg> add LinearAlgebra\n",
    "```\n"
   ]
  },
  {
   "cell_type": "markdown",
   "id": "3bbeea31-ab92-44a5-b80a-7b68f4147f19",
   "metadata": {},
   "source": [
    "# Which Packages do we need "
   ]
  },
  {
   "cell_type": "markdown",
   "id": "7164fe23-6419-4b56-9c33-5300daea176c",
   "metadata": {},
   "source": [
    "For this course we need following packages:\n",
    "\n",
    "<font color=yellow>IJulia</font>\n",
    "\n",
    "<font color=yellow>LinearAlgebra</font>\n",
    "\n",
    "<font color=yellow>DifferentialEquations</font>\n",
    "\n",
    "<font color=yellow>ITensors</font>"
   ]
  },
  {
   "cell_type": "markdown",
   "id": "08c0d2e0-c083-4cec-baac-24e913b06aa9",
   "metadata": {},
   "source": [
    "# Hello Julia "
   ]
  },
  {
   "cell_type": "code",
   "execution_count": null,
   "id": "aa03236a-87d7-4a2a-b98c-e73323ceca38",
   "metadata": {},
   "outputs": [],
   "source": [
    "println(\"Hello Julia\")"
   ]
  },
  {
   "cell_type": "markdown",
   "id": "8142acbd-1c79-40fc-9801-d92a1b36548a",
   "metadata": {},
   "source": [
    "# Get help"
   ]
  },
  {
   "cell_type": "code",
   "execution_count": 4,
   "id": "ae0c442a-6fde-4394-b0d4-3dfd162ebf06",
   "metadata": {},
   "outputs": [],
   "source": [
    "# ?println\n",
    "# @doc println"
   ]
  },
  {
   "cell_type": "markdown",
   "id": "ec960313-cf7c-4896-aaa0-c6a8a8147192",
   "metadata": {},
   "source": [
    "# Arithmetic operation"
   ]
  },
  {
   "cell_type": "code",
   "execution_count": 13,
   "id": "da50609e-5d63-44b3-8998-9f61c8cf3baf",
   "metadata": {},
   "outputs": [],
   "source": [
    "1 + 3;\n",
    "\n",
    "4 - 5;\n",
    "\n",
    "2 * 11;\n",
    "\n",
    "10 / 2;\n",
    "\n",
    "10 \\ 2;\n",
    "\n",
    "2 ^ 3;\n",
    "\n",
    "√100;\n",
    "\n",
    "1.00000001 ≈ 1;"
   ]
  },
  {
   "cell_type": "code",
   "execution_count": 16,
   "id": "eca82d73-c666-4299-a789-0b8790a9af69",
   "metadata": {},
   "outputs": [
    {
     "name": "stdout",
     "output_type": "stream",
     "text": [
      "String\n",
      "Char\n"
     ]
    }
   ],
   "source": [
    "# There is difference between \" \"  and  ' ' \n",
    "\n",
    "println(typeof(\"x\"));\n",
    "println(typeof('x'));"
   ]
  },
  {
   "cell_type": "code",
   "execution_count": 1,
   "id": "c2c1e894-258d-45db-b1e7-dd19a8fe49ac",
   "metadata": {},
   "outputs": [
    {
     "ename": "LoadError",
     "evalue": "MethodError: no method matching +(::String, ::String)\nString concatenation is performed with \u001b[36m*\u001b[39m (See also: https://docs.julialang.org/en/v1/manual/strings/#man-concatenation).\n\n\u001b[0mClosest candidates are:\n\u001b[0m  +(::Any, ::Any, \u001b[91m::Any\u001b[39m, \u001b[91m::Any...\u001b[39m)\n\u001b[0m\u001b[90m   @\u001b[39m \u001b[90mBase\u001b[39m \u001b[90m\u001b[4moperators.jl:587\u001b[24m\u001b[39m\n",
     "output_type": "error",
     "traceback": [
      "MethodError: no method matching +(::String, ::String)\nString concatenation is performed with \u001b[36m*\u001b[39m (See also: https://docs.julialang.org/en/v1/manual/strings/#man-concatenation).\n\n\u001b[0mClosest candidates are:\n\u001b[0m  +(::Any, ::Any, \u001b[91m::Any\u001b[39m, \u001b[91m::Any...\u001b[39m)\n\u001b[0m\u001b[90m   @\u001b[39m \u001b[90mBase\u001b[39m \u001b[90m\u001b[4moperators.jl:587\u001b[24m\u001b[39m\n",
      "",
      "Stacktrace:",
      " [1] top-level scope",
      "   @ In[1]:1"
     ]
    }
   ],
   "source": [
    "\"x\" + \"x\";  # what would happen !!! \n"
   ]
  },
  {
   "cell_type": "code",
   "execution_count": null,
   "id": "acd95254-7056-49a4-a954-d029c4a60795",
   "metadata": {},
   "outputs": [],
   "source": []
  },
  {
   "cell_type": "markdown",
   "id": "dc491319-80c7-4190-a3f6-0e7ea1f535e9",
   "metadata": {},
   "source": [
    "# Data Structures"
   ]
  },
  {
   "cell_type": "markdown",
   "id": "52e9a05e-c6bb-4b1c-bc12-30c397c42fc5",
   "metadata": {},
   "source": [
    "- Array\n",
    "    - Vector\n",
    "    - Matrix\n",
    "- Tuple\n",
    "- Dictionary"
   ]
  },
  {
   "cell_type": "code",
   "execution_count": 4,
   "id": "e6ddc31b-b57a-4c14-ba8e-fa84262f099e",
   "metadata": {},
   "outputs": [
    {
     "name": "stdout",
     "output_type": "stream",
     "text": [
      "Vector{Int64}\n"
     ]
    }
   ],
   "source": [
    "# List/Array\n",
    "collection1 = [1,3,5,7]\n",
    "println(typeof(collection1))"
   ]
  },
  {
   "cell_type": "code",
   "execution_count": 6,
   "id": "7859aa9e-2c1a-4e1e-a968-6a91a51062f7",
   "metadata": {},
   "outputs": [
    {
     "name": "stdout",
     "output_type": "stream",
     "text": [
      "Vector{Float64}\n"
     ]
    }
   ],
   "source": [
    "collection2 = [1,3,5,7.0]\n",
    "println(typeof(collection2)) # notice the data type"
   ]
  },
  {
   "cell_type": "code",
   "execution_count": 11,
   "id": "c7aaee87-58c3-455f-964b-f4668d8ea0c6",
   "metadata": {},
   "outputs": [
    {
     "name": "stdout",
     "output_type": "stream",
     "text": [
      "Vector{Float64}\n"
     ]
    },
    {
     "data": {
      "text/plain": [
       "4-element Vector{Float64}:\n",
       " 1.0\n",
       " 0.6666666666666666\n",
       " 3.0\n",
       " 5.0"
      ]
     },
     "execution_count": 11,
     "metadata": {},
     "output_type": "execute_result"
    }
   ],
   "source": [
    "collection3 = [1,2//3, 3, 5.0]\n",
    "println(typeof(collection3))\n",
    "collection3    # rationals will get translated to floats "
   ]
  },
  {
   "cell_type": "code",
   "execution_count": 24,
   "id": "8480e3ef-922b-477f-8145-f208d804b87d",
   "metadata": {},
   "outputs": [
    {
     "name": "stdout",
     "output_type": "stream",
     "text": [
      "Vector{Any}\n"
     ]
    }
   ],
   "source": [
    "collection4 = [1,2,4,\"5\"];\n",
    "println(typeof(collection4))"
   ]
  },
  {
   "cell_type": "code",
   "execution_count": 25,
   "id": "8367ee72-a793-4270-aca9-34e836c16ebe",
   "metadata": {},
   "outputs": [
    {
     "data": {
      "text/plain": [
       "5-element Vector{Any}:\n",
       "  1\n",
       "  2\n",
       "  4\n",
       "   \"5\"\n",
       " 11"
      ]
     },
     "execution_count": 25,
     "metadata": {},
     "output_type": "execute_result"
    }
   ],
   "source": [
    "append!(collection4,11)   # functions with a bang (!) at the end mutate the passed objects"
   ]
  },
  {
   "cell_type": "code",
   "execution_count": 26,
   "id": "e5e126fd-b8dc-4c2c-adff-2abc2a427f05",
   "metadata": {},
   "outputs": [
    {
     "ename": "LoadError",
     "evalue": "BoundsError: attempt to access 5-element Vector{Any} at index [0]",
     "output_type": "error",
     "traceback": [
      "BoundsError: attempt to access 5-element Vector{Any} at index [0]",
      "",
      "Stacktrace:",
      " [1] getindex(A::Vector{Any}, i1::Int64)",
      "   @ Base ./essentials.jl:13",
      " [2] top-level scope",
      "   @ In[26]:1"
     ]
    }
   ],
   "source": [
    "collection4[0]  # julia does not have zero base indices "
   ]
  },
  {
   "cell_type": "code",
   "execution_count": 27,
   "id": "8192964e-8288-4ebb-8738-7b6f3fc1957d",
   "metadata": {},
   "outputs": [
    {
     "data": {
      "text/plain": [
       "1"
      ]
     },
     "execution_count": 27,
     "metadata": {},
     "output_type": "execute_result"
    }
   ],
   "source": [
    "collection4[1] # the first element in collection (in julia) have the index 1 (like matlab)"
   ]
  },
  {
   "cell_type": "code",
   "execution_count": 28,
   "id": "22b4484d-50d3-4777-b32c-e12528fb88a2",
   "metadata": {},
   "outputs": [
    {
     "data": {
      "text/plain": [
       "5"
      ]
     },
     "execution_count": 28,
     "metadata": {},
     "output_type": "execute_result"
    }
   ],
   "source": [
    "length(collection4)"
   ]
  },
  {
   "cell_type": "code",
   "execution_count": 29,
   "id": "2dc1e5eb-62ea-4ab9-abf4-55e2317469fd",
   "metadata": {},
   "outputs": [
    {
     "data": {
      "text/plain": [
       "3-element Vector{Any}:\n",
       "  4\n",
       "   \"5\"\n",
       " 11"
      ]
     },
     "execution_count": 29,
     "metadata": {},
     "output_type": "execute_result"
    }
   ],
   "source": [
    "collection4[3:end]"
   ]
  },
  {
   "cell_type": "code",
   "execution_count": 31,
   "id": "b4f3aa9e-d588-48d5-b05a-35c2371c5f0f",
   "metadata": {},
   "outputs": [
    {
     "name": "stdout",
     "output_type": "stream",
     "text": [
      "collection4 = Any[1, 2, 4, \"5\", 11]\n"
     ]
    }
   ],
   "source": [
    "@show collection4;"
   ]
  },
  {
   "cell_type": "code",
   "execution_count": 33,
   "id": "ab3c8539-d909-470c-b75b-1d7636b68d5e",
   "metadata": {},
   "outputs": [
    {
     "name": "stdout",
     "output_type": "stream",
     "text": [
      "collection4_copy = Any[1, 2, 4, \"5\", 11]\n"
     ]
    }
   ],
   "source": [
    "collection4_copy = copy(collection4);\n",
    "@show collection4_copy;"
   ]
  },
  {
   "cell_type": "markdown",
   "id": "14a17adc-88e2-4abe-b81c-6907df72bbeb",
   "metadata": {},
   "source": [
    "## Tuples"
   ]
  },
  {
   "cell_type": "code",
   "execution_count": 34,
   "id": "1900234c-8417-45d3-8c3e-21ada1a2b219",
   "metadata": {},
   "outputs": [],
   "source": [
    "# It's like arrays but immutable "
   ]
  },
  {
   "cell_type": "code",
   "execution_count": 35,
   "id": "855997b8-22e7-4e12-b039-ea349242862b",
   "metadata": {},
   "outputs": [
    {
     "name": "stdout",
     "output_type": "stream",
     "text": [
      "tup1 = (2, 4, 6)\n"
     ]
    }
   ],
   "source": [
    "tup1 = (2,4,6);\n",
    "@show tup1;"
   ]
  },
  {
   "cell_type": "code",
   "execution_count": 37,
   "id": "71c7e6e8-db4e-4683-b373-777525a0ec47",
   "metadata": {},
   "outputs": [
    {
     "name": "stdout",
     "output_type": "stream",
     "text": [
      "tup2[1] = \"Julia\"\n"
     ]
    }
   ],
   "source": [
    "tup2 = (\"Julia\",\"Python\",\"Matlab\",\"Ruby\",\"C\");\n",
    "@show tup2[1];"
   ]
  },
  {
   "cell_type": "markdown",
   "id": "066b40be-b0e9-438d-88df-50dcd0c75fbf",
   "metadata": {},
   "source": [
    "### Named Tuple"
   ]
  },
  {
   "cell_type": "code",
   "execution_count": 40,
   "id": "27b8cb94-0b36-4839-9272-e0e1dd605e3f",
   "metadata": {},
   "outputs": [
    {
     "name": "stdout",
     "output_type": "stream",
     "text": [
      "julia_tuple[1] = \"Julia\"\n"
     ]
    }
   ],
   "source": [
    "julia_tuple = (langugae=\"Julia\",editor=\"VSCode\",typee=\"JIT\");\n",
    "@show julia_tuple[1];"
   ]
  },
  {
   "cell_type": "code",
   "execution_count": 42,
   "id": "fec125f8-0d3f-4cfb-9734-c7524d9e989e",
   "metadata": {},
   "outputs": [
    {
     "name": "stdout",
     "output_type": "stream",
     "text": [
      "julia_tuple.langugae = \"Julia\"\n"
     ]
    }
   ],
   "source": [
    "@show julia_tuple.langugae;"
   ]
  },
  {
   "cell_type": "code",
   "execution_count": 43,
   "id": "6fa9855b-0a93-4f70-91ae-a5796f1f8a69",
   "metadata": {},
   "outputs": [
    {
     "name": "stdout",
     "output_type": "stream",
     "text": [
      "julia_tuple[1] = \"Julia\"\n"
     ]
    }
   ],
   "source": [
    "@show julia_tuple[1];"
   ]
  },
  {
   "cell_type": "markdown",
   "id": "2d1398be-eedf-4f4f-8fdc-d8a71f920eff",
   "metadata": {},
   "source": [
    "## Dictionary "
   ]
  },
  {
   "cell_type": "code",
   "execution_count": 1,
   "id": "1b44131e-d4bb-4a40-a654-89b58523b49f",
   "metadata": {},
   "outputs": [
    {
     "data": {
      "text/plain": [
       "Dict{String, String} with 3 entries:\n",
       "  \"language\" => \"Julia\"\n",
       "  \"editor\"   => \"VSCode\"\n",
       "  \"typee\"    => \"JIT\""
      ]
     },
     "execution_count": 1,
     "metadata": {},
     "output_type": "execute_result"
    }
   ],
   "source": [
    "dict1 = Dict(\"language\"=>\"Julia\", \"editor\"=>\"VSCode\",\"typee\"=>\"JIT\")"
   ]
  },
  {
   "cell_type": "code",
   "execution_count": 62,
   "id": "f4ec7d61-5a40-47d4-bdfc-89d3ebfc8ff7",
   "metadata": {},
   "outputs": [
    {
     "data": {
      "text/plain": [
       "\"Julia\""
      ]
     },
     "execution_count": 62,
     "metadata": {},
     "output_type": "execute_result"
    }
   ],
   "source": [
    "dict1[\"language\"]"
   ]
  },
  {
   "cell_type": "code",
   "execution_count": 49,
   "id": "5dd7ffe2-7016-4965-8e3d-6c91598951be",
   "metadata": {},
   "outputs": [
    {
     "name": "stdout",
     "output_type": "stream",
     "text": [
      "dict1 = Dict(\"editor\" => \"VSCode\", \"typee\" => \"JIT\")\n"
     ]
    }
   ],
   "source": [
    "# To remove an element from a dictiobnary \n",
    "pop!(dict1);\n",
    "@show dict1;"
   ]
  },
  {
   "cell_type": "code",
   "execution_count": 2,
   "id": "b7aada94-9769-4fac-aebf-ed9efe2fd5ce",
   "metadata": {},
   "outputs": [
    {
     "data": {
      "text/plain": [
       "Dict{String, String} with 2 entries:\n",
       "  \"Company\"  => \"Microsoft\"\n",
       "  \"language\" => \"C#\""
      ]
     },
     "execution_count": 2,
     "metadata": {},
     "output_type": "execute_result"
    }
   ],
   "source": [
    "dict2 = Dict(\"Company\"=>\"Microsoft\", \"language\"=>\"C#\")"
   ]
  },
  {
   "cell_type": "code",
   "execution_count": 3,
   "id": "9d46cf3f-b874-4059-a2ed-1d99e83f341d",
   "metadata": {},
   "outputs": [
    {
     "data": {
      "text/plain": [
       "Dict{String, String} with 4 entries:\n",
       "  \"Company\"  => \"Microsoft\"\n",
       "  \"language\" => \"C#\"\n",
       "  \"editor\"   => \"VSCode\"\n",
       "  \"typee\"    => \"JIT\""
      ]
     },
     "execution_count": 3,
     "metadata": {},
     "output_type": "execute_result"
    }
   ],
   "source": [
    "dict3 = merge!(dict1,dict2)"
   ]
  },
  {
   "cell_type": "code",
   "execution_count": 5,
   "id": "b0bb3916-9756-4506-b4a0-962afa1c5404",
   "metadata": {},
   "outputs": [],
   "source": [
    "# we have merged two dictionaries, \n",
    "\n",
    "# in first one for the key \"language\" we have \"Julia\"\n",
    "# but in the second one we have \"C#\"\n",
    "# after merge!()   \n",
    "# what happend to \"language\" => \"Julia\" !! ?? "
   ]
  },
  {
   "cell_type": "code",
   "execution_count": 9,
   "id": "26131a85-624f-4fea-a285-004b13b8986a",
   "metadata": {},
   "outputs": [
    {
     "name": "stdout",
     "output_type": "stream",
     "text": [
      "key=Company \t value=Microsoft\n",
      "key=language \t value=C#\n",
      "key=editor \t value=VSCode\n",
      "key=typee \t value=JIT\n"
     ]
    }
   ],
   "source": [
    "# iterate on the key-value of a dictionary \n",
    "for (k,v) in dict3\n",
    "    println(\"key=$k \\t value=$v\")\n",
    "end"
   ]
  },
  {
   "cell_type": "code",
   "execution_count": 10,
   "id": "503579af-9446-4709-91e3-4e00e79cdb33",
   "metadata": {},
   "outputs": [
    {
     "data": {
      "text/plain": [
       "Dict{Symbol, String} with 2 entries:\n",
       "  :editor => \"VSCode\"\n",
       "  :lang   => \"Julia\""
      ]
     },
     "execution_count": 10,
     "metadata": {},
     "output_type": "execute_result"
    }
   ],
   "source": [
    "# instead of string, we can also symbols as keys\n",
    "dict4 = Dict(:lang=>\"Julia\", :editor=>\"VSCode\")"
   ]
  },
  {
   "cell_type": "code",
   "execution_count": 12,
   "id": "52a8945a-1231-4d2e-9a71-60d5f18d7dee",
   "metadata": {},
   "outputs": [
    {
     "data": {
      "text/plain": [
       "\"Julia\""
      ]
     },
     "execution_count": 12,
     "metadata": {},
     "output_type": "execute_result"
    }
   ],
   "source": [
    "dict4[:lang]"
   ]
  },
  {
   "cell_type": "markdown",
   "id": "5c1be96b-4774-4e8c-afde-92db125642b4",
   "metadata": {},
   "source": [
    "# Loops"
   ]
  },
  {
   "cell_type": "markdown",
   "id": "4fafae2f-0ee0-44f2-bf5f-d4c303ec4bc1",
   "metadata": {},
   "source": [
    "- For\n",
    "- While"
   ]
  },
  {
   "cell_type": "code",
   "execution_count": 13,
   "id": "ace0c55b-7558-4e2c-8b23-79c8e747ec92",
   "metadata": {},
   "outputs": [
    {
     "name": "stdout",
     "output_type": "stream",
     "text": [
      "1\n",
      "1\n",
      "2\n",
      "3\n",
      "5\n",
      "8\n",
      "11\n",
      "19\n"
     ]
    }
   ],
   "source": [
    "fib = [1,1,2,3,5,8,11,19]\n",
    "for j in fib\n",
    "    println(j)\n",
    "end"
   ]
  },
  {
   "cell_type": "code",
   "execution_count": 17,
   "id": "f6b952d0-6f28-4a68-80a4-4f5460e9dad3",
   "metadata": {},
   "outputs": [
    {
     "name": "stdout",
     "output_type": "stream",
     "text": [
      "1\n",
      "1\n",
      "2\n",
      "3\n",
      "5\n",
      "8\n",
      "11\n",
      "19\n"
     ]
    }
   ],
   "source": [
    "z = 1\n",
    "while z <= length(fib)\n",
    "    println(fib[z])\n",
    "    z += 1\n",
    "end"
   ]
  },
  {
   "cell_type": "markdown",
   "id": "5c43932f-2389-400a-a4ac-4deaaf2deff8",
   "metadata": {},
   "source": [
    "# Conditionals"
   ]
  },
  {
   "cell_type": "markdown",
   "id": "1679bacc-c9ac-46c3-b6a9-91f9ea6d7c57",
   "metadata": {},
   "source": [
    "- if\n",
    "    - else\n",
    "    - elseif"
   ]
  },
  {
   "cell_type": "markdown",
   "id": "fd9ff844-57e9-4312-9e47-10c019ce56f2",
   "metadata": {},
   "source": [
    "```julia\n",
    "if \n",
    "    {block of commands}\n",
    "end\n",
    "\n",
    "----------------------------\n",
    "if \n",
    "    {block of commands}\n",
    "else\n",
    "    {block of commands}\n",
    "end\n",
    "\n",
    "-------------------------------\n",
    "\n",
    "if \n",
    "    {block of commands}\n",
    "elseif \n",
    "    {block of commands}\n",
    "else\n",
    "    {block of commands}\n",
    "end\n",
    "```"
   ]
  },
  {
   "cell_type": "code",
   "execution_count": 20,
   "id": "e786ee06-6656-417f-a748-f714d2ab2263",
   "metadata": {},
   "outputs": [
    {
     "name": "stdout",
     "output_type": "stream",
     "text": [
      "Ok\n"
     ]
    }
   ],
   "source": [
    "if iseven(12)\n",
    "    println(\"Ok\")\n",
    "end"
   ]
  },
  {
   "cell_type": "code",
   "execution_count": 21,
   "id": "00f71506-a57c-45c6-8743-8e0629f76c18",
   "metadata": {},
   "outputs": [
    {
     "name": "stdout",
     "output_type": "stream",
     "text": [
      "Ok\n"
     ]
    }
   ],
   "source": [
    "if iseven(12)\n",
    "    println(\"Ok\")\n",
    "else\n",
    "    println(\"Nok\")\n",
    "end"
   ]
  },
  {
   "cell_type": "code",
   "execution_count": 25,
   "id": "1dca8ff4-cce3-4c7c-ad2a-d7e633ec3b35",
   "metadata": {},
   "outputs": [
    {
     "name": "stdout",
     "output_type": "stream",
     "text": [
      "divided by 2\n",
      "divided by 3\n",
      "maybe you should use Primes.jl !\n",
      "divided by 2\n",
      "maybe you should use Primes.jl !\n",
      "maybe you should use Primes.jl !\n"
     ]
    }
   ],
   "source": [
    "for j in fib[3:end]\n",
    "    if j%2==0\n",
    "        println(\"divided by 2\")\n",
    "    elseif j%3==0\n",
    "        println(\"divided by 3\")\n",
    "    else\n",
    "        println(\"maybe you should use Primes.jl !\")\n",
    "    end\n",
    "end"
   ]
  },
  {
   "cell_type": "markdown",
   "id": "6b186d47-8287-4c6c-a4c1-d36fe5c85da5",
   "metadata": {},
   "source": [
    "# Functions"
   ]
  },
  {
   "cell_type": "markdown",
   "id": "f31bd67a-43d4-4d9b-9781-b7a9e6162929",
   "metadata": {},
   "source": [
    "To define function in julia we do as follows:\n",
    "\n",
    "```julia\n",
    "function name_of_function(args)\n",
    "    {block of code}\n",
    "end\n",
    "```"
   ]
  },
  {
   "cell_type": "code",
   "execution_count": 1,
   "id": "216bb8d6-f775-4c5a-87e7-f2ab0083c84f",
   "metadata": {},
   "outputs": [
    {
     "data": {
      "text/plain": [
       "sin2x (generic function with 1 method)"
      ]
     },
     "execution_count": 1,
     "metadata": {},
     "output_type": "execute_result"
    }
   ],
   "source": [
    "function sin2x(θ::Float64)\n",
    "    return 2sin(θ)cos(θ)\n",
    "end"
   ]
  },
  {
   "cell_type": "code",
   "execution_count": 11,
   "id": "a7f75a1f-154e-4a2e-b584-04dc23d90acd",
   "metadata": {},
   "outputs": [
    {
     "data": {
      "text/plain": [
       "1.0"
      ]
     },
     "execution_count": 11,
     "metadata": {},
     "output_type": "execute_result"
    }
   ],
   "source": [
    "sin2x(π/4)"
   ]
  },
  {
   "cell_type": "code",
   "execution_count": null,
   "id": "3b9f735d-4a69-4455-956a-581d98344a3c",
   "metadata": {},
   "outputs": [],
   "source": []
  },
  {
   "cell_type": "code",
   "execution_count": null,
   "id": "6abc4749-1c38-4773-bef7-5c0a21169d21",
   "metadata": {},
   "outputs": [],
   "source": []
  },
  {
   "cell_type": "code",
   "execution_count": null,
   "id": "579b1f43-fc45-405b-b8e7-d3e0420376a8",
   "metadata": {},
   "outputs": [],
   "source": []
  }
 ],
 "metadata": {
  "kernelspec": {
   "display_name": "Julia (4 threads) 1.10.0",
   "language": "julia",
   "name": "julia-_4-threads_-1.10"
  },
  "language_info": {
   "file_extension": ".jl",
   "mimetype": "application/julia",
   "name": "julia",
   "version": "1.10.0"
  },
  "widgets": {
   "application/vnd.jupyter.widget-state+json": {
    "state": {},
    "version_major": 2,
    "version_minor": 0
   }
  }
 },
 "nbformat": 4,
 "nbformat_minor": 5
}
