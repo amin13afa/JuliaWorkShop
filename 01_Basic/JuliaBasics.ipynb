{
 "cells": [
  {
   "cell_type": "markdown",
   "id": "b05f6d9a-3eac-4513-8d0a-318dc80ec93f",
   "metadata": {},
   "source": [
    "# Introduction "
   ]
  },
  {
   "cell_type": "markdown",
   "id": "55d786e6-070d-4dbf-9b4a-f1a1bccf30b3",
   "metadata": {},
   "source": [
    "- [x] Who?\n",
    "- [x] When?\n",
    "- [x] Why?"
   ]
  },
  {
   "cell_type": "markdown",
   "id": "0133aea3-fc16-4c77-8a18-5624bcf9b7b8",
   "metadata": {},
   "source": [
    "Julia language \n",
    "\n",
    "[Julia](https://en.wikipedia.org/wiki/Julia_(programming_language)"
   ]
  },
  {
   "cell_type": "markdown",
   "id": "c5f4339d-4993-44a3-8e15-d1dc70f7b264",
   "metadata": {},
   "source": [
    "Who?\n",
    "\n",
    "[Jeff Bezanson](https://en.wikipedia.org/wiki/Jeff_Bezanson_(programmer))\n",
    "\n",
    "[Stefan Karpinski](https://en.wikipedia.org/wiki/Stefan_Karpinski)\n",
    "\n",
    "[Viral B. Shah](https://en.wikipedia.org/wiki/Viral_B._Shah)\n",
    "\n",
    "[Alan Edelman](https://en.wikipedia.org/wiki/Alan_Edelman)\n",
    "\n"
   ]
  },
  {
   "cell_type": "markdown",
   "id": "3937f190-7ee1-45df-880d-41f2c1265216",
   "metadata": {},
   "source": [
    "When?\n",
    "\n",
    "Work on Julia began in 2009, first release 2012"
   ]
  },
  {
   "cell_type": "markdown",
   "id": "2b5581da-03f3-40b8-81c7-246145bec96f",
   "metadata": {},
   "source": [
    "Why\n",
    "\n",
    "in April 2012, Karpinski said of the name \"Julia\": __\"There's no good reason, really. It just seemed like a pretty name\"__\n",
    "\n",
    "[their post on ](https://julialang.org/blog/2012/02/why-we-created-julia)"
   ]
  },
  {
   "cell_type": "markdown",
   "id": "cee5d297-1dc1-4ecd-b8c7-e3644eefdd50",
   "metadata": {},
   "source": [
    "The latest version is : Julia 1.10\n",
    "\n",
    "[Julia 1.10 some brilliant features](https://julialang.org/blog/2023/12/julia-1.10-highlights/)"
   ]
  },
  {
   "cell_type": "markdown",
   "id": "fcac8fed-8681-4dbc-9713-bf91f877e969",
   "metadata": {},
   "source": [
    "# Let's get start it"
   ]
  },
  {
   "cell_type": "markdown",
   "id": "d9d2cb5f-569a-4b63-b0c6-a28e7a57cb29",
   "metadata": {},
   "source": [
    "- [ ] Installation\n",
    "- [ ] Hello Julia\n",
    "- [ ] Basic Operation\n",
    "- [ ] Data Structures\n",
    "- [ ] Loops\n",
    "- [ ] Conditionals\n",
    "- [ ] Function"
   ]
  },
  {
   "cell_type": "markdown",
   "id": "72fdd553-9da7-4612-bc4a-050fa6927056",
   "metadata": {
    "jp-MarkdownHeadingCollapsed": true
   },
   "source": [
    "# Installation"
   ]
  },
  {
   "cell_type": "markdown",
   "id": "adbd5fb9-f37b-4fb0-b76b-62c264ab5b3c",
   "metadata": {},
   "source": [
    "It's as easy as possible  😄\n",
    "\n",
    "\n",
    "[Julia installation page](https://julialang.org/downloads/)"
   ]
  },
  {
   "cell_type": "markdown",
   "id": "a4ee6ae0-0a3d-4199-95eb-6adc1a5746a9",
   "metadata": {
    "jp-MarkdownHeadingCollapsed": true
   },
   "source": [
    "# Julia in REPL "
   ]
  },
  {
   "cell_type": "markdown",
   "id": "35d6d128-3cc8-4960-82db-1e80c83e2b2e",
   "metadata": {},
   "source": [
    "<font color=yellow>__REPL__</font> stands for __Read-Eval-Print Loop__\n"
   ]
  },
  {
   "cell_type": "markdown",
   "id": "0b451465-1070-4ce3-ad11-f758445283d9",
   "metadata": {},
   "source": [
    "REPL has five different modes \n",
    "\n",
    "1. <font color=green>Julian mode </font>\n",
    "\n",
    "2. <font color=orange>Help mode</font> $\\rightarrow$ ?\n",
    "\n",
    "3. <font color=red>Shell mode</font>   $\\rightarrow$;\n",
    "\n",
    "4. <font color=blue>Pkg mode</font>   $\\rightarrow$ ]\n",
    "\n",
    "5. <font color=white>Search mode</font>   $\\rightarrow$ ctrl+r/s"
   ]
  },
  {
   "cell_type": "markdown",
   "id": "f8dcb256-fb5c-44d2-a7bc-08444d76061f",
   "metadata": {},
   "source": [
    "# Julia Package Installation"
   ]
  },
  {
   "cell_type": "markdown",
   "id": "3bbeea31-ab92-44a5-b80a-7b68f4147f19",
   "metadata": {},
   "source": [
    "# Which Packages do we need "
   ]
  },
  {
   "cell_type": "markdown",
   "id": "08c0d2e0-c083-4cec-baac-24e913b06aa9",
   "metadata": {
    "jp-MarkdownHeadingCollapsed": true
   },
   "source": [
    "# Hello Julia "
   ]
  },
  {
   "cell_type": "code",
   "execution_count": null,
   "id": "aa03236a-87d7-4a2a-b98c-e73323ceca38",
   "metadata": {},
   "outputs": [],
   "source": [
    "println(\"Hello Julia\")"
   ]
  },
  {
   "cell_type": "markdown",
   "id": "dc491319-80c7-4190-a3f6-0e7ea1f535e9",
   "metadata": {
    "jp-MarkdownHeadingCollapsed": true
   },
   "source": [
    "# Data Structures"
   ]
  },
  {
   "cell_type": "markdown",
   "id": "52e9a05e-c6bb-4b1c-bc12-30c397c42fc5",
   "metadata": {},
   "source": [
    "- Array\n",
    "    - Vector\n",
    "    - Matrix\n",
    "- Tuple\n",
    "- Dictionary"
   ]
  },
  {
   "cell_type": "code",
   "execution_count": null,
   "id": "e6ddc31b-b57a-4c14-ba8e-fa84262f099e",
   "metadata": {},
   "outputs": [],
   "source": []
  },
  {
   "cell_type": "markdown",
   "id": "5c1be96b-4774-4e8c-afde-92db125642b4",
   "metadata": {},
   "source": [
    "# Loops"
   ]
  },
  {
   "cell_type": "markdown",
   "id": "4fafae2f-0ee0-44f2-bf5f-d4c303ec4bc1",
   "metadata": {},
   "source": [
    "- For\n",
    "- While"
   ]
  },
  {
   "cell_type": "code",
   "execution_count": null,
   "id": "ace0c55b-7558-4e2c-8b23-79c8e747ec92",
   "metadata": {},
   "outputs": [],
   "source": []
  },
  {
   "cell_type": "markdown",
   "id": "5c43932f-2389-400a-a4ac-4deaaf2deff8",
   "metadata": {
    "jp-MarkdownHeadingCollapsed": true
   },
   "source": [
    "# Conditionals"
   ]
  },
  {
   "cell_type": "markdown",
   "id": "1679bacc-c9ac-46c3-b6a9-91f9ea6d7c57",
   "metadata": {},
   "source": [
    "- if\n",
    "    - else\n",
    "    - elseif"
   ]
  },
  {
   "cell_type": "code",
   "execution_count": null,
   "id": "bf14fafd-6f65-4bcb-a28c-d60ca53897ab",
   "metadata": {},
   "outputs": [],
   "source": []
  },
  {
   "cell_type": "code",
   "execution_count": null,
   "id": "e786ee06-6656-417f-a748-f714d2ab2263",
   "metadata": {},
   "outputs": [],
   "source": []
  },
  {
   "cell_type": "markdown",
   "id": "6b186d47-8287-4c6c-a4c1-d36fe5c85da5",
   "metadata": {},
   "source": [
    "# Functions"
   ]
  },
  {
   "cell_type": "code",
   "execution_count": null,
   "id": "ab6d4ecb-8e11-4dd3-a476-24fcfc25c366",
   "metadata": {},
   "outputs": [],
   "source": []
  }
 ],
 "metadata": {
  "kernelspec": {
   "display_name": "Julia (4 threads) 1.10.0",
   "language": "julia",
   "name": "julia-_4-threads_-1.10"
  },
  "language_info": {
   "file_extension": ".jl",
   "mimetype": "application/julia",
   "name": "julia",
   "version": "1.10.0"
  },
  "widgets": {
   "application/vnd.jupyter.widget-state+json": {
    "state": {},
    "version_major": 2,
    "version_minor": 0
   }
  }
 },
 "nbformat": 4,
 "nbformat_minor": 5
}
