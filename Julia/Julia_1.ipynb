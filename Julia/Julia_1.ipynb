{
 "cells": [
  {
   "cell_type": "markdown",
   "id": "af1c97ef-bdc6-462b-9c73-291e77ef4144",
   "metadata": {},
   "source": [
    "# Introduction "
   ]
  },
  {
   "cell_type": "markdown",
   "id": "2b140ce3-a215-4c94-ba8b-caf518cddf42",
   "metadata": {},
   "source": [
    "### Why Julia  😍 "
   ]
  },
  {
   "cell_type": "markdown",
   "id": "f564f082-f1f9-4a78-919c-d216f57f1559",
   "metadata": {},
   "source": [
    "- [x] What ? \n",
    "- [x] Who ?\n",
    "- [x] When ?\n",
    "- [x] Why ?"
   ]
  },
  {
   "cell_type": "markdown",
   "id": "bcbfb742-9eb9-4bae-bfeb-1f615202b7d3",
   "metadata": {},
   "source": [
    "- Julia is a scientific computing language\n",
    "- Jeff Bezanson, Stefan Karpinski, Alan Edelman, Viral B. Shah\n",
    "- First released  in 2012\n",
    "- [Why We Created Julia](https://julialang.org/blog/2012/02/why-we-created-julia/)"
   ]
  },
  {
   "cell_type": "markdown",
   "id": "84be2a59-4636-49e1-84f0-0379763da6a4",
   "metadata": {},
   "source": [
    "We want a language that’s open source, with a liberal license.  \n",
    "We want the speed of C with the dynamism of Ruby.   \n",
    "We want a language that’s homoiconic, with true macros like Lisp, but with obvious, familiar mathematical notation like Matlab.  \n",
    "We want something as usable for general programming as Python, as easy for statistics as R, as natural for string processing as Perl, as powerful for linear algebra as Matlab, as good at gluing programs together as the shell.   \n",
    "Something that is dirt simple to learn, yet keeps the most serious hackers happy. We want it interactive and we want it compiled."
   ]
  },
  {
   "cell_type": "markdown",
   "id": "19353691-362d-4134-a266-5f1e5508c320",
   "metadata": {},
   "source": [
    "### Why Julia 1.10"
   ]
  },
  {
   "cell_type": "markdown",
   "id": "c229b9d1-30ed-474a-b1e9-d01bafc1415a",
   "metadata": {},
   "source": [
    "Some of new feature in Julia 1.10\n",
    "\n",
    "[Julia 1.10 Highlights ](https://julialang.org/blog/2023/12/julia-1.10-highlights/)"
   ]
  },
  {
   "cell_type": "markdown",
   "id": "9fb9060a-3473-4c89-8047-151cadfe2466",
   "metadata": {},
   "source": [
    "# Installation "
   ]
  },
  {
   "cell_type": "markdown",
   "id": "366998ec-f6b4-4f76-8bd4-19e3f390521e",
   "metadata": {},
   "source": [
    "It's as easy as possible  😄\n",
    "\n",
    "\n",
    "[Julia installation page](https://julialang.org/downloads/)"
   ]
  },
  {
   "cell_type": "markdown",
   "id": "b1abafe5-a3ac-4346-93de-6afc576aaadb",
   "metadata": {},
   "source": [
    "# Julia in REPL "
   ]
  },
  {
   "cell_type": "markdown",
   "id": "1b5a6859-a6cf-444a-9741-9dc2a9a36b08",
   "metadata": {},
   "source": [
    "<font color=yellow>__REPL__</font> stands for __Read-Eval-Print Loop__\n"
   ]
  },
  {
   "cell_type": "markdown",
   "id": "d3c80200-e31b-441f-83b6-45a6dd10b1e3",
   "metadata": {},
   "source": [
    "REPL has five different modes \n",
    "\n",
    "1. <font color=green>Julian mode </font>\n",
    "\n",
    "2. <font color=orange>Help mode</font> $\\rightarrow$ ?\n",
    "\n",
    "3. <font color=red>Shell mode</font>   $\\rightarrow$;\n",
    "\n",
    "4. <font color=blue>Pkg mode</font>   $\\rightarrow$ ]\n",
    "\n",
    "5. <font color=white>Search mode</font>   $\\rightarrow$ ctrl+r/s"
   ]
  },
  {
   "cell_type": "markdown",
   "id": "7abf4bc5-a264-45b9-b325-b7fdb09a221f",
   "metadata": {},
   "source": [
    "# Julia Env"
   ]
  },
  {
   "cell_type": "markdown",
   "id": "27b2ae70-06bb-4eae-8bfb-a909238fb18f",
   "metadata": {},
   "source": [
    "# Julia Package Installation"
   ]
  },
  {
   "cell_type": "markdown",
   "id": "da115c33-b3ce-407e-9639-36e32182fbd7",
   "metadata": {},
   "source": [
    "# Which Packages do we need "
   ]
  },
  {
   "cell_type": "code",
   "execution_count": null,
   "id": "774d1b6e-f07d-480a-8c7c-40425bf1f4fd",
   "metadata": {},
   "outputs": [],
   "source": []
  }
 ],
 "metadata": {
  "kernelspec": {
   "display_name": "Julia (4 threads) 1.10.0",
   "language": "julia",
   "name": "julia-_4-threads_-1.10"
  },
  "language_info": {
   "file_extension": ".jl",
   "mimetype": "application/julia",
   "name": "julia",
   "version": "1.10.0"
  },
  "widgets": {
   "application/vnd.jupyter.widget-state+json": {
    "state": {},
    "version_major": 2,
    "version_minor": 0
   }
  }
 },
 "nbformat": 4,
 "nbformat_minor": 5
}
