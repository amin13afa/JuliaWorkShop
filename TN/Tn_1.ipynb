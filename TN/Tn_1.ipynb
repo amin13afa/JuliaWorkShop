{
 "cells": [
  {
   "cell_type": "markdown",
   "id": "acca3567-5ebf-4de1-bc8c-67f5d2e4197b",
   "metadata": {},
   "source": [
    "# Tensor Initialization "
   ]
  },
  {
   "cell_type": "code",
   "execution_count": 29,
   "id": "cf7cda18-9afc-444e-a4d8-964e1e0e912a",
   "metadata": {},
   "outputs": [],
   "source": [
    "using LinearAlgebra\n",
    "using TensorOperations"
   ]
  },
  {
   "cell_type": "code",
   "execution_count": 31,
   "id": "e80ead8f-e843-4e99-a3ee-2280e84cb34e",
   "metadata": {
    "scrolled": true
   },
   "outputs": [],
   "source": [
    "# order: 3, dims: 2,3,4\n",
    "A = rand(2,3,4);\n",
    "\n",
    "# order: 2, dims: 5,5\n",
    "# identity tensor \n",
    "B = Matrix{Float64}(I,5,5);\n",
    "\n",
    "# order: 4, dims: 2,4,2,4\n",
    "# ones tensor \n",
    "C = ones(2,4,2,4);\n",
    "\n",
    "# order: 2, dims: 3,5\n",
    "# zero tensor\n",
    "D = zeros(3,5);\n",
    "\n",
    "# order: 3, dims: 3,4,5\n",
    "# complex tensor\n",
    "E = rand(3,4,5)+im*rand(3,4,5);\n",
    "\n"
   ]
  },
  {
   "cell_type": "markdown",
   "id": "75d90b88-caa2-4b5a-bd64-4007ff782160",
   "metadata": {},
   "source": [
    "# Permute operation "
   ]
  },
  {
   "cell_type": "code",
   "execution_count": 11,
   "id": "2caee54e-0164-406c-919f-202898bbb768",
   "metadata": {},
   "outputs": [
    {
     "name": "stdout",
     "output_type": "stream",
     "text": [
      "(2, 3, 4, 5)\n",
      "(5, 4, 2, 3)\n"
     ]
    }
   ],
   "source": [
    "# permute \n",
    "A = rand(2,3,4,5)\n",
    "println(size(A))\n",
    "Ã = permutedims(A,(4,3,1,2))\n",
    "println(size(Ã))"
   ]
  },
  {
   "cell_type": "markdown",
   "id": "fa5b2f65-e3a0-4866-b8a4-8482d45591ac",
   "metadata": {},
   "source": [
    "# Reshape "
   ]
  },
  {
   "cell_type": "code",
   "execution_count": 10,
   "id": "c88ae0c7-7a8b-4ed9-ad9b-fc70ede6c9f9",
   "metadata": {},
   "outputs": [
    {
     "name": "stdout",
     "output_type": "stream",
     "text": [
      "(2, 3, 4)\n",
      "(4, 6)\n"
     ]
    }
   ],
   "source": [
    "B = rand(2,3,4)\n",
    "println(size(B))\n",
    "B̃ = reshape(B,(4,6))\n",
    "println(size(B̃))"
   ]
  },
  {
   "cell_type": "markdown",
   "id": "c42ddfec-ee0f-4c73-91d7-8cd3f6267a44",
   "metadata": {},
   "source": [
    "# Binary Contraction"
   ]
  },
  {
   "cell_type": "code",
   "execution_count": 28,
   "id": "20910589-1ba0-4d16-9b97-bddb3b7984cd",
   "metadata": {},
   "outputs": [
    {
     "name": "stdout",
     "output_type": "stream",
     "text": [
      "size of A′: (2, 4, 3, 5)\n",
      "size of B′: (3, 4, 5, 6)\n",
      "size of A′′ : (8, 15)\n",
      "size of B′′ : (15, 24)\n",
      "size of C : (8, 24)\n",
      "size of C′ : (2, 4, 3, 8)\n",
      "size of C′′ : (2, 3, 4, 8)\n"
     ]
    }
   ],
   "source": [
    "A = rand(2,3,4,5);\n",
    "B = rand(3,4,5,6);\n",
    "\n",
    "# permute A\n",
    "A′ = permutedims(A,(1,3,2,4));  # A\\_{2,4,3,5}\n",
    "println(\"size of A′: \",size(A′));\n",
    "# permute B\n",
    "B′ = permutedims(B,(1,3,2,4));   # B\\_{3,5,4,6} \n",
    "println(\"size of B′: \",size(B))\n",
    "\n",
    "\n",
    "# reshape Ap\n",
    "A′′ = reshape(A,(8,15));\n",
    "println(\"size of A′′ : \",size(A′′))\n",
    "# reshape B\n",
    "B′′ = reshape(B,(15,24));\n",
    "println(\"size of B′′ : \",size(B′′))\n",
    "\n",
    "\n",
    "# make contraction\n",
    "C = A′′ * B′′ ;\n",
    "println(\"size of C : \", size(C))\n",
    "\n",
    "C′ = reshape(C,(2,4,3,8));\n",
    "println(\"size of C′ : \",size(C′))\n",
    "\n",
    "C′′ = permutedims(C′,(1,3,2,4));\n",
    "println(\"size of C′′ : \", size(C′′))"
   ]
  },
  {
   "cell_type": "code",
   "execution_count": 39,
   "id": "b64d44d6-1500-465a-9af5-39da7578168c",
   "metadata": {},
   "outputs": [
    {
     "name": "stdout",
     "output_type": "stream",
     "text": [
      "size of T: (10, 2, 2, 2, 2, 10)\n",
      "size of reshaped T (T′): (10, 4, 4, 10)\n",
      "size of θ: (40, 40)\n"
     ]
    }
   ],
   "source": [
    "# Contraction using ncon \n",
    "\n",
    "d = 2;\n",
    "χ = 10;\n",
    "A = rand(χ,d,χ);\n",
    "B = rand(χ,d,χ);\n",
    "C = rand(χ,d,χ);\n",
    "D = rand(χ,d,χ);\n",
    "\n",
    "# make contraction using ncon \n",
    "T = @ncon([A,B,C,D],[[-1,-2,1],[1,-3,2],[2,-4,3],[3,-5,-6]])\n",
    "println(\"size of T: \",size(T))\n",
    "# reshape T \n",
    "T′ = reshape(T,(χ,d^2,d^2,χ))\n",
    "println(\"size of reshaped T (T′): \",size(T′))\n",
    "# compute θ using reshape T′\n",
    "θ = reshape(T′,(χ*d^2,χ*d^2))\n",
    "println(\"size of θ: \",size(θ))"
   ]
  },
  {
   "cell_type": "code",
   "execution_count": 44,
   "id": "4f05d57f-8f3f-4e49-9884-97ed45cf404c",
   "metadata": {},
   "outputs": [
    {
     "name": "stdout",
     "output_type": "stream",
     "text": [
      "size of U: (40, 40)\n",
      "size of S(40,)\n",
      "size of Vd: (40, 40)\n"
     ]
    }
   ],
   "source": [
    "U,S,Vd = svd(θ);\n",
    "println(\"size of U: \",size(U))\n",
    "println(\"size of S\",size(S))\n",
    "println(\"size of Vd: \",size(Vd))"
   ]
  },
  {
   "cell_type": "code",
   "execution_count": 48,
   "id": "fe07636c-50d1-4962-8c60-d6ed9f4c9bc9",
   "metadata": {},
   "outputs": [
    {
     "name": "stdout",
     "output_type": "stream",
     "text": [
      "size of new U: (40, 10)\n",
      "size of new S: (10,)\n",
      "size of new Vd: (10, 40)\n"
     ]
    }
   ],
   "source": [
    "U = U[:,1:χ];\n",
    "println(\"size of new U: \", size(U))\n",
    "S = S[1:χ]\n",
    "println(\"size of new S: \", size(S))\n",
    "Vd = Vd[1:χ,:]\n",
    "println(\"size of new Vd: \", size(Vd))"
   ]
  },
  {
   "cell_type": "code",
   "execution_count": 56,
   "id": "c1938b5a-ffe6-46bc-8a81-13aa755bf834",
   "metadata": {},
   "outputs": [
    {
     "data": {
      "text/plain": [
       "true"
      ]
     },
     "execution_count": 56,
     "metadata": {},
     "output_type": "execute_result"
    }
   ],
   "source": [
    "# make contraction between these new tensors \n",
    "@ncon([U,diagm(S),Vd],[[-1,1],[1,2],[2,-2]]) == U*diagm(S)*Vd "
   ]
  },
  {
   "cell_type": "code",
   "execution_count": 59,
   "id": "a7a9152b-5ba0-41b1-a1df-ab203d93586b",
   "metadata": {},
   "outputs": [
    {
     "name": "stdout",
     "output_type": "stream",
     "text": [
      "size of θ_new : (40, 40)\n"
     ]
    }
   ],
   "source": [
    "θ = @ncon([U,diagm(S),Vd],[[-1,1],[1,2],[2,-2]]);\n",
    "println(\"size of θ_new : \", size(θ))"
   ]
  },
  {
   "cell_type": "code",
   "execution_count": 60,
   "id": "7a026cac-9d13-4e01-b39e-a7ef097966c7",
   "metadata": {},
   "outputs": [
    {
     "name": "stdout",
     "output_type": "stream",
     "text": [
      "size of θ′ : (10, 2, 2, 2, 2, 10)\n"
     ]
    }
   ],
   "source": [
    "θ′ = reshape(θ,(χ,d,d,d,d,χ))\n",
    "println(\"size of θ′ : \", size(θ′))"
   ]
  },
  {
   "cell_type": "code",
   "execution_count": null,
   "id": "b03ccf8d-c21b-4615-b9e5-7f3010d2efda",
   "metadata": {},
   "outputs": [],
   "source": []
  }
 ],
 "metadata": {
  "kernelspec": {
   "display_name": "Julia (4 threads) 1.10.0",
   "language": "julia",
   "name": "julia-_4-threads_-1.10"
  },
  "language_info": {
   "file_extension": ".jl",
   "mimetype": "application/julia",
   "name": "julia",
   "version": "1.10.0"
  },
  "widgets": {
   "application/vnd.jupyter.widget-state+json": {
    "state": {},
    "version_major": 2,
    "version_minor": 0
   }
  }
 },
 "nbformat": 4,
 "nbformat_minor": 5
}
