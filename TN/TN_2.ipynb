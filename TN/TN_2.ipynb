{
 "cells": [
  {
   "cell_type": "code",
   "execution_count": null,
   "id": "973e75d1-d9e4-4a1f-b1ce-dc5961c3b715",
   "metadata": {},
   "outputs": [],
   "source": []
  },
  {
   "cell_type": "markdown",
   "id": "e6e6601d-d99f-44d0-a153-c4eefb2b4dba",
   "metadata": {},
   "source": [
    "By tensor we mean a vector, matrix and any N-dimensional array of numbers "
   ]
  },
  {
   "cell_type": "markdown",
   "id": "39eac300-3743-4b80-8181-73bd35993ed2",
   "metadata": {},
   "source": [
    "اضافه کردن شکل "
   ]
  },
  {
   "cell_type": "markdown",
   "id": "54de7ef9-fbc4-4431-8e79-76d8af4e5e84",
   "metadata": {},
   "source": [
    "معرفی نمایش دیاگرامی تانسورها "
   ]
  },
  {
   "cell_type": "markdown",
   "id": "0605189d-e405-4d85-bab1-6c83bfb8c2b9",
   "metadata": {},
   "source": [
    "$$\n",
    "\\mathcal{v_j} = \n",
    "\\begin{bmatrix}\n",
    "-1 \\\\ 3\n",
    "\\end{bmatrix}\n",
    "$$\n",
    "\n",
    "\n",
    "$$\n",
    "M_{ij} = \n",
    "\\begin{bmatrix}\n",
    "1 & 2 & 3 \\\\\n",
    "4 & 5 & 6 \\\\\n",
    "7 & 8 & 9\n",
    "\\end{bmatrix}\n",
    "$$"
   ]
  },
  {
   "cell_type": "markdown",
   "id": "44142342-fed1-4fc9-b7a0-44e700edc7d5",
   "metadata": {},
   "source": [
    "<img src=\"img/tn1_1.png\" width=500>"
   ]
  },
  {
   "cell_type": "markdown",
   "id": "2d84f440-4f92-494e-87aa-0ba3d42429bf",
   "metadata": {},
   "source": [
    "<img src=\"img/tn1_2.png\" width=500>"
   ]
  },
  {
   "cell_type": "markdown",
   "id": "0dadd5e7-eb22-4c16-8140-f721439ae0dc",
   "metadata": {},
   "source": [
    "<img src=\"img/tn1_3.png\" width=500>"
   ]
  },
  {
   "cell_type": "markdown",
   "id": "cd35ed32-8800-4302-b6c8-fc19be282798",
   "metadata": {},
   "source": [
    "### Contraction over indices "
   ]
  },
  {
   "cell_type": "markdown",
   "id": "2fedf3e0-85b8-425e-bb81-a1b75bb460eb",
   "metadata": {},
   "source": [
    "<img src=\"img/tn1_4.png\" width=500>"
   ]
  },
  {
   "cell_type": "markdown",
   "id": "289673cf-1380-48bf-b8d9-3282c5c6eae6",
   "metadata": {},
   "source": [
    "<img src=\"img/tn1_5.png\" width=500>"
   ]
  },
  {
   "cell_type": "code",
   "execution_count": null,
   "id": "6eb0cfe1-5556-4676-ac07-fbbf4848cba5",
   "metadata": {},
   "outputs": [],
   "source": []
  },
  {
   "cell_type": "markdown",
   "id": "9d38039e-a7ee-42c6-aa08-994dcf0814f6",
   "metadata": {},
   "source": [
    "<img src=\"img/tn1_6.png\" width=100>"
   ]
  },
  {
   "cell_type": "markdown",
   "id": "d0ceca7a-f319-4c16-859f-da2853d42993",
   "metadata": {},
   "source": [
    "Vector dot product:  $$\\vec v_1.\\vec v_2$$"
   ]
  },
  {
   "cell_type": "markdown",
   "id": "4d659424-38cd-43d9-91d7-455e43451c1c",
   "metadata": {},
   "source": [
    "<img src=\"img/tn1_7.png\" width=200>"
   ]
  },
  {
   "cell_type": "markdown",
   "id": "07051642-8f00-4132-902c-cc32e680b1c2",
   "metadata": {},
   "source": [
    "Matrix multiplication \n",
    "\n",
    "$$\n",
    "M_{ij} N_{jk} = P_{ik}\n",
    "$$"
   ]
  },
  {
   "cell_type": "markdown",
   "id": "cd0a2ef6-bc99-455f-8364-29be71caa42d",
   "metadata": {},
   "source": [
    "<img src=\"img/tn1_8.png\" width=200>"
   ]
  },
  {
   "cell_type": "markdown",
   "id": "e996b5b2-74cf-41c9-a833-0ef2ac0e73ab",
   "metadata": {},
   "source": [
    "Vector-Matrix-Vector \n",
    "\n",
    "$$\n",
    "\\vec U_i M_{ij} \\vec V_j\n",
    "$$"
   ]
  },
  {
   "cell_type": "code",
   "execution_count": null,
   "id": "c8ebbb2f-9337-4252-87fc-2d4af61bfa16",
   "metadata": {},
   "outputs": [],
   "source": []
  },
  {
   "cell_type": "markdown",
   "id": "f4293be6-f00a-400b-9084-17afedb623bc",
   "metadata": {},
   "source": [
    "# Tensor Network in Practice"
   ]
  },
  {
   "cell_type": "markdown",
   "id": "bf46a2ec-22bf-4c5e-9688-38b25b64cda0",
   "metadata": {},
   "source": [
    "satr with a single-site wavefunction \n",
    "\n",
    "for example a spin 1/2\n",
    "\n",
    "single-site basis:\n",
    "\n",
    "$$\n",
    "\\ket{s=1} = \\ket{\\uparrow} \n",
    "$$\n",
    "\n",
    "\n",
    "$$\n",
    "\\ket{s=2} = \\ket{\\downarrow}\n",
    "$$"
   ]
  },
  {
   "cell_type": "markdown",
   "id": "0fb18c7b-bc74-467c-a82e-0d159c0f8255",
   "metadata": {},
   "source": [
    " Most general wavefunction for a spin 1/2:\n",
    "\n",
    " $$\n",
    " \\ket{\\psi} = \\sum_{s=1}^{2} \\psi_s \\ket{s}\n",
    " $$\n",
    "\n",
    " where $\\psi_s$ are complex number"
   ]
  },
  {
   "cell_type": "markdown",
   "id": "f6ef36ba-1cbf-435f-8371-d294b01584f1",
   "metadata": {},
   "source": [
    "اجرای کدهای این بخش در آی تنسور"
   ]
  },
  {
   "cell_type": "code",
   "execution_count": 2,
   "id": "12a6c677-4066-4690-9312-cba92c7a8538",
   "metadata": {},
   "outputs": [],
   "source": [
    "using ITensors"
   ]
  },
  {
   "cell_type": "code",
   "execution_count": 4,
   "id": "3ec38440-57be-4e33-a7f1-e45214591580",
   "metadata": {},
   "outputs": [
    {
     "data": {
      "text/plain": [
       "(dim=3|id=767)"
      ]
     },
     "execution_count": 4,
     "metadata": {},
     "output_type": "execute_result"
    }
   ],
   "source": [
    "# Create a tensor Index of dimension 3\n",
    "i = Index(3)"
   ]
  },
  {
   "cell_type": "code",
   "execution_count": 5,
   "id": "8c607e79-24f6-4bae-b6fe-87e5ee3bc19b",
   "metadata": {},
   "outputs": [
    {
     "name": "stdout",
     "output_type": "stream",
     "text": [
      "i = (dim=3|id=767)\n"
     ]
    }
   ],
   "source": [
    "@show i;"
   ]
  },
  {
   "cell_type": "code",
   "execution_count": 7,
   "id": "3536f3c8-cfd7-4649-b39b-52e3b636a142",
   "metadata": {},
   "outputs": [],
   "source": [
    "# Create ITensor\n",
    "i = Index(2);\n",
    "j = Index(2);\n",
    "k = Index(3);\n",
    "l = Index(3);"
   ]
  },
  {
   "cell_type": "code",
   "execution_count": 8,
   "id": "74f4da79-b2d3-4ce3-92f8-51988433bcc1",
   "metadata": {},
   "outputs": [],
   "source": [
    "A = ITensor(i);\n",
    "B = ITensor(i,j)\n",
    "C = ITensor(l,j,k);"
   ]
  },
  {
   "cell_type": "code",
   "execution_count": 9,
   "id": "0c22d3a0-0506-4875-a356-6e216f0e22bb",
   "metadata": {},
   "outputs": [
    {
     "name": "stdout",
     "output_type": "stream",
     "text": [
      "A = ITensor ord=1\n",
      "Dim 1: (dim=2|id=326)\n",
      "NDTensors.EmptyStorage{NDTensors.EmptyNumber, NDTensors.Dense{NDTensors.EmptyNumber, Vector{NDTensors.EmptyNumber}}}\n",
      " 2-element\n",
      "\n",
      "\n"
     ]
    }
   ],
   "source": [
    "@show A;"
   ]
  },
  {
   "cell_type": "code",
   "execution_count": 10,
   "id": "abb6f49e-8999-4271-8d9a-4ccec98b452d",
   "metadata": {},
   "outputs": [
    {
     "name": "stdout",
     "output_type": "stream",
     "text": [
      "B = ITensor ord=2\n",
      "Dim 1: (dim=2|id=326)\n",
      "Dim 2: (dim=2|id=105)\n",
      "NDTensors.EmptyStorage{NDTensors.EmptyNumber, NDTensors.Dense{NDTensors.EmptyNumber, Vector{NDTensors.EmptyNumber}}}\n",
      " 2×2\n",
      "\n",
      "\n"
     ]
    }
   ],
   "source": [
    "@show B;"
   ]
  },
  {
   "cell_type": "code",
   "execution_count": 11,
   "id": "aa30e033-e514-4f74-a9fa-117b1e347dbe",
   "metadata": {},
   "outputs": [
    {
     "name": "stdout",
     "output_type": "stream",
     "text": [
      "C = ITensor ord=3\n",
      "Dim 1: (dim=3|id=826)\n",
      "Dim 2: (dim=2|id=105)\n",
      "Dim 3: (dim=3|id=891)\n",
      "NDTensors.EmptyStorage{NDTensors.EmptyNumber, NDTensors.Dense{NDTensors.EmptyNumber, Vector{NDTensors.EmptyNumber}}}\n",
      " 3×2×3\n",
      "\n",
      "\n"
     ]
    }
   ],
   "source": [
    "@show C;"
   ]
  },
  {
   "cell_type": "code",
   "execution_count": 16,
   "id": "36d1d307-bc3b-4718-b821-e0f587348de1",
   "metadata": {},
   "outputs": [
    {
     "name": "stdout",
     "output_type": "stream",
     "text": [
      "  0.000031 seconds (22 allocations: 3.094 KiB)\n"
     ]
    }
   ],
   "source": [
    "@time D = A*B*C;"
   ]
  },
  {
   "cell_type": "code",
   "execution_count": 17,
   "id": "ae6be922-86d4-4b1e-b19c-67a4ea62ea52",
   "metadata": {},
   "outputs": [
    {
     "name": "stdout",
     "output_type": "stream",
     "text": [
      "D = ITensor ord=2\n",
      "Dim 1: (dim=3|id=826)\n",
      "Dim 2: (dim=3|id=891)\n",
      "NDTensors.EmptyStorage{NDTensors.EmptyNumber, NDTensors.Dense{NDTensors.EmptyNumber, Vector{NDTensors.EmptyNumber}}}\n",
      " 3×3\n",
      "\n",
      "\n"
     ]
    }
   ],
   "source": [
    "@show D;"
   ]
  },
  {
   "cell_type": "markdown",
   "id": "8c52eccf-a9d1-4cdb-aa23-d686523b96c4",
   "metadata": {},
   "source": [
    "The <font color=yellow>*</font> operator finds all matching indices between two ITensors and sums over or contracts these indices."
   ]
  },
  {
   "cell_type": "code",
   "execution_count": null,
   "id": "9739c0ac-6c3e-4c8d-8ca4-eccb66119ab4",
   "metadata": {},
   "outputs": [],
   "source": []
  }
 ],
 "metadata": {
  "kernelspec": {
   "display_name": "Julia 1.10.0",
   "language": "julia",
   "name": "julia-1.10"
  },
  "language_info": {
   "file_extension": ".jl",
   "mimetype": "application/julia",
   "name": "julia",
   "version": "1.10.0"
  },
  "widgets": {
   "application/vnd.jupyter.widget-state+json": {
    "state": {},
    "version_major": 2,
    "version_minor": 0
   }
  }
 },
 "nbformat": 4,
 "nbformat_minor": 5
}
